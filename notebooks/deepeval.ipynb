{
  "nbformat": 4,
  "nbformat_minor": 0,
  "metadata": {
    "colab": {
      "provenance": []
    },
    "kernelspec": {
      "name": "python3",
      "display_name": "Python 3"
    },
    "language_info": {
      "name": "python"
    }
  },
  "cells": [
    {
      "cell_type": "code",
      "source": [
        "!pip install deepeval\n",
        "!python -m pip install -U weaviate-client==4.7.1\n",
        "!python -m pip install python-dotenv==1.0.0\n",
        "!python -m pip install openai==1.54.3"
      ],
      "metadata": {
        "colab": {
          "base_uri": "https://localhost:8080/"
        },
        "id": "Qr7gqotbCt1Q",
        "outputId": "ccb68e94-d93f-413a-9fa5-b0918167ba1c"
      },
      "execution_count": 4,
      "outputs": [
        {
          "output_type": "stream",
          "name": "stdout",
          "text": [
            "Requirement already satisfied: deepeval in /usr/local/lib/python3.10/dist-packages (1.5.8)\n",
            "Requirement already satisfied: requests in /usr/local/lib/python3.10/dist-packages (from deepeval) (2.32.3)\n",
            "Requirement already satisfied: tqdm in /usr/local/lib/python3.10/dist-packages (from deepeval) (4.66.6)\n",
            "Requirement already satisfied: pytest in /usr/local/lib/python3.10/dist-packages (from deepeval) (8.3.3)\n",
            "Requirement already satisfied: tabulate in /usr/local/lib/python3.10/dist-packages (from deepeval) (0.9.0)\n",
            "Requirement already satisfied: typer in /usr/local/lib/python3.10/dist-packages (from deepeval) (0.13.0)\n",
            "Requirement already satisfied: rich in /usr/local/lib/python3.10/dist-packages (from deepeval) (13.9.4)\n",
            "Requirement already satisfied: protobuf in /usr/local/lib/python3.10/dist-packages (from deepeval) (4.25.5)\n",
            "Requirement already satisfied: pydantic in /usr/local/lib/python3.10/dist-packages (from deepeval) (2.9.2)\n",
            "Requirement already satisfied: sentry-sdk in /usr/local/lib/python3.10/dist-packages (from deepeval) (2.18.0)\n",
            "Requirement already satisfied: pytest-repeat in /usr/local/lib/python3.10/dist-packages (from deepeval) (0.9.3)\n",
            "Requirement already satisfied: pytest-xdist in /usr/local/lib/python3.10/dist-packages (from deepeval) (3.6.1)\n",
            "Requirement already satisfied: portalocker in /usr/local/lib/python3.10/dist-packages (from deepeval) (3.0.0)\n",
            "Requirement already satisfied: langchain in /usr/local/lib/python3.10/dist-packages (from deepeval) (0.3.7)\n",
            "Requirement already satisfied: langchain-core in /usr/local/lib/python3.10/dist-packages (from deepeval) (0.3.19)\n",
            "Requirement already satisfied: langchain-openai in /usr/local/lib/python3.10/dist-packages (from deepeval) (0.2.9)\n",
            "Requirement already satisfied: ragas in /usr/local/lib/python3.10/dist-packages (from deepeval) (0.2.6)\n",
            "Requirement already satisfied: docx2txt~=0.8 in /usr/local/lib/python3.10/dist-packages (from deepeval) (0.8)\n",
            "Requirement already satisfied: importlib-metadata>=6.0.2 in /usr/local/lib/python3.10/dist-packages (from deepeval) (7.0.0)\n",
            "Requirement already satisfied: tenacity~=8.4.1 in /usr/local/lib/python3.10/dist-packages (from deepeval) (8.4.2)\n",
            "Requirement already satisfied: opentelemetry-api~=1.24.0 in /usr/local/lib/python3.10/dist-packages (from deepeval) (1.24.0)\n",
            "Requirement already satisfied: opentelemetry-sdk~=1.24.0 in /usr/local/lib/python3.10/dist-packages (from deepeval) (1.24.0)\n",
            "Requirement already satisfied: opentelemetry-exporter-otlp-proto-grpc~=1.24.0 in /usr/local/lib/python3.10/dist-packages (from deepeval) (1.24.0)\n",
            "Requirement already satisfied: grpcio~=1.63.0 in /usr/local/lib/python3.10/dist-packages (from deepeval) (1.63.2)\n",
            "Requirement already satisfied: zipp>=0.5 in /usr/local/lib/python3.10/dist-packages (from importlib-metadata>=6.0.2->deepeval) (3.21.0)\n",
            "Requirement already satisfied: deprecated>=1.2.6 in /usr/local/lib/python3.10/dist-packages (from opentelemetry-api~=1.24.0->deepeval) (1.2.15)\n",
            "Requirement already satisfied: googleapis-common-protos~=1.52 in /usr/local/lib/python3.10/dist-packages (from opentelemetry-exporter-otlp-proto-grpc~=1.24.0->deepeval) (1.66.0)\n",
            "Requirement already satisfied: opentelemetry-exporter-otlp-proto-common==1.24.0 in /usr/local/lib/python3.10/dist-packages (from opentelemetry-exporter-otlp-proto-grpc~=1.24.0->deepeval) (1.24.0)\n",
            "Requirement already satisfied: opentelemetry-proto==1.24.0 in /usr/local/lib/python3.10/dist-packages (from opentelemetry-exporter-otlp-proto-grpc~=1.24.0->deepeval) (1.24.0)\n",
            "Requirement already satisfied: opentelemetry-semantic-conventions==0.45b0 in /usr/local/lib/python3.10/dist-packages (from opentelemetry-sdk~=1.24.0->deepeval) (0.45b0)\n",
            "Requirement already satisfied: typing-extensions>=3.7.4 in /usr/local/lib/python3.10/dist-packages (from opentelemetry-sdk~=1.24.0->deepeval) (4.12.2)\n",
            "Requirement already satisfied: PyYAML>=5.3 in /usr/local/lib/python3.10/dist-packages (from langchain->deepeval) (6.0.2)\n",
            "Requirement already satisfied: SQLAlchemy<3,>=1.4 in /usr/local/lib/python3.10/dist-packages (from langchain->deepeval) (2.0.35)\n",
            "Requirement already satisfied: aiohttp<4.0.0,>=3.8.3 in /usr/local/lib/python3.10/dist-packages (from langchain->deepeval) (3.11.2)\n",
            "Requirement already satisfied: async-timeout<5.0.0,>=4.0.0 in /usr/local/lib/python3.10/dist-packages (from langchain->deepeval) (4.0.3)\n",
            "Requirement already satisfied: langchain-text-splitters<0.4.0,>=0.3.0 in /usr/local/lib/python3.10/dist-packages (from langchain->deepeval) (0.3.2)\n",
            "Requirement already satisfied: langsmith<0.2.0,>=0.1.17 in /usr/local/lib/python3.10/dist-packages (from langchain->deepeval) (0.1.143)\n",
            "Requirement already satisfied: numpy<2,>=1 in /usr/local/lib/python3.10/dist-packages (from langchain->deepeval) (1.26.4)\n",
            "Requirement already satisfied: jsonpatch<2.0,>=1.33 in /usr/local/lib/python3.10/dist-packages (from langchain-core->deepeval) (1.33)\n",
            "Requirement already satisfied: packaging<25,>=23.2 in /usr/local/lib/python3.10/dist-packages (from langchain-core->deepeval) (24.2)\n",
            "Requirement already satisfied: annotated-types>=0.6.0 in /usr/local/lib/python3.10/dist-packages (from pydantic->deepeval) (0.7.0)\n",
            "Requirement already satisfied: pydantic-core==2.23.4 in /usr/local/lib/python3.10/dist-packages (from pydantic->deepeval) (2.23.4)\n",
            "Requirement already satisfied: charset-normalizer<4,>=2 in /usr/local/lib/python3.10/dist-packages (from requests->deepeval) (3.4.0)\n",
            "Requirement already satisfied: idna<4,>=2.5 in /usr/local/lib/python3.10/dist-packages (from requests->deepeval) (3.10)\n",
            "Requirement already satisfied: urllib3<3,>=1.21.1 in /usr/local/lib/python3.10/dist-packages (from requests->deepeval) (2.2.3)\n",
            "Requirement already satisfied: certifi>=2017.4.17 in /usr/local/lib/python3.10/dist-packages (from requests->deepeval) (2024.8.30)\n",
            "Requirement already satisfied: openai<2.0.0,>=1.54.0 in /usr/local/lib/python3.10/dist-packages (from langchain-openai->deepeval) (1.54.4)\n",
            "Requirement already satisfied: tiktoken<1,>=0.7 in /usr/local/lib/python3.10/dist-packages (from langchain-openai->deepeval) (0.8.0)\n",
            "Requirement already satisfied: iniconfig in /usr/local/lib/python3.10/dist-packages (from pytest->deepeval) (2.0.0)\n",
            "Requirement already satisfied: pluggy<2,>=1.5 in /usr/local/lib/python3.10/dist-packages (from pytest->deepeval) (1.5.0)\n",
            "Requirement already satisfied: exceptiongroup>=1.0.0rc8 in /usr/local/lib/python3.10/dist-packages (from pytest->deepeval) (1.2.2)\n",
            "Requirement already satisfied: tomli>=1 in /usr/local/lib/python3.10/dist-packages (from pytest->deepeval) (2.1.0)\n",
            "Requirement already satisfied: execnet>=2.1 in /usr/local/lib/python3.10/dist-packages (from pytest-xdist->deepeval) (2.1.1)\n",
            "Requirement already satisfied: datasets in /usr/local/lib/python3.10/dist-packages (from ragas->deepeval) (3.1.0)\n",
            "Requirement already satisfied: langchain-community in /usr/local/lib/python3.10/dist-packages (from ragas->deepeval) (0.3.7)\n",
            "Requirement already satisfied: nest-asyncio in /usr/local/lib/python3.10/dist-packages (from ragas->deepeval) (1.6.0)\n",
            "Requirement already satisfied: appdirs in /usr/local/lib/python3.10/dist-packages (from ragas->deepeval) (1.4.4)\n",
            "Requirement already satisfied: pysbd>=0.3.4 in /usr/local/lib/python3.10/dist-packages (from ragas->deepeval) (0.3.4)\n",
            "Requirement already satisfied: markdown-it-py>=2.2.0 in /usr/local/lib/python3.10/dist-packages (from rich->deepeval) (3.0.0)\n",
            "Requirement already satisfied: pygments<3.0.0,>=2.13.0 in /usr/local/lib/python3.10/dist-packages (from rich->deepeval) (2.18.0)\n",
            "Requirement already satisfied: click>=8.0.0 in /usr/local/lib/python3.10/dist-packages (from typer->deepeval) (8.1.7)\n",
            "Requirement already satisfied: shellingham>=1.3.0 in /usr/local/lib/python3.10/dist-packages (from typer->deepeval) (1.5.4)\n",
            "Requirement already satisfied: aiohappyeyeballs>=2.3.0 in /usr/local/lib/python3.10/dist-packages (from aiohttp<4.0.0,>=3.8.3->langchain->deepeval) (2.4.3)\n",
            "Requirement already satisfied: aiosignal>=1.1.2 in /usr/local/lib/python3.10/dist-packages (from aiohttp<4.0.0,>=3.8.3->langchain->deepeval) (1.3.1)\n",
            "Requirement already satisfied: attrs>=17.3.0 in /usr/local/lib/python3.10/dist-packages (from aiohttp<4.0.0,>=3.8.3->langchain->deepeval) (24.2.0)\n",
            "Requirement already satisfied: frozenlist>=1.1.1 in /usr/local/lib/python3.10/dist-packages (from aiohttp<4.0.0,>=3.8.3->langchain->deepeval) (1.5.0)\n",
            "Requirement already satisfied: multidict<7.0,>=4.5 in /usr/local/lib/python3.10/dist-packages (from aiohttp<4.0.0,>=3.8.3->langchain->deepeval) (6.1.0)\n",
            "Requirement already satisfied: propcache>=0.2.0 in /usr/local/lib/python3.10/dist-packages (from aiohttp<4.0.0,>=3.8.3->langchain->deepeval) (0.2.0)\n",
            "Requirement already satisfied: yarl<2.0,>=1.17.0 in /usr/local/lib/python3.10/dist-packages (from aiohttp<4.0.0,>=3.8.3->langchain->deepeval) (1.17.2)\n",
            "Requirement already satisfied: wrapt<2,>=1.10 in /usr/local/lib/python3.10/dist-packages (from deprecated>=1.2.6->opentelemetry-api~=1.24.0->deepeval) (1.16.0)\n",
            "Requirement already satisfied: jsonpointer>=1.9 in /usr/local/lib/python3.10/dist-packages (from jsonpatch<2.0,>=1.33->langchain-core->deepeval) (3.0.0)\n",
            "Requirement already satisfied: httpx<1,>=0.23.0 in /usr/local/lib/python3.10/dist-packages (from langsmith<0.2.0,>=0.1.17->langchain->deepeval) (0.27.2)\n",
            "Requirement already satisfied: orjson<4.0.0,>=3.9.14 in /usr/local/lib/python3.10/dist-packages (from langsmith<0.2.0,>=0.1.17->langchain->deepeval) (3.10.11)\n",
            "Requirement already satisfied: requests-toolbelt<2.0.0,>=1.0.0 in /usr/local/lib/python3.10/dist-packages (from langsmith<0.2.0,>=0.1.17->langchain->deepeval) (1.0.0)\n",
            "Requirement already satisfied: mdurl~=0.1 in /usr/local/lib/python3.10/dist-packages (from markdown-it-py>=2.2.0->rich->deepeval) (0.1.2)\n",
            "Requirement already satisfied: anyio<5,>=3.5.0 in /usr/local/lib/python3.10/dist-packages (from openai<2.0.0,>=1.54.0->langchain-openai->deepeval) (3.7.1)\n",
            "Requirement already satisfied: distro<2,>=1.7.0 in /usr/local/lib/python3.10/dist-packages (from openai<2.0.0,>=1.54.0->langchain-openai->deepeval) (1.9.0)\n",
            "Requirement already satisfied: jiter<1,>=0.4.0 in /usr/local/lib/python3.10/dist-packages (from openai<2.0.0,>=1.54.0->langchain-openai->deepeval) (0.7.1)\n",
            "Requirement already satisfied: sniffio in /usr/local/lib/python3.10/dist-packages (from openai<2.0.0,>=1.54.0->langchain-openai->deepeval) (1.3.1)\n",
            "Requirement already satisfied: greenlet!=0.4.17 in /usr/local/lib/python3.10/dist-packages (from SQLAlchemy<3,>=1.4->langchain->deepeval) (3.1.1)\n",
            "Requirement already satisfied: regex>=2022.1.18 in /usr/local/lib/python3.10/dist-packages (from tiktoken<1,>=0.7->langchain-openai->deepeval) (2024.9.11)\n",
            "Requirement already satisfied: filelock in /usr/local/lib/python3.10/dist-packages (from datasets->ragas->deepeval) (3.16.1)\n",
            "Requirement already satisfied: pyarrow>=15.0.0 in /usr/local/lib/python3.10/dist-packages (from datasets->ragas->deepeval) (17.0.0)\n",
            "Requirement already satisfied: dill<0.3.9,>=0.3.0 in /usr/local/lib/python3.10/dist-packages (from datasets->ragas->deepeval) (0.3.8)\n",
            "Requirement already satisfied: pandas in /usr/local/lib/python3.10/dist-packages (from datasets->ragas->deepeval) (2.2.2)\n",
            "Requirement already satisfied: xxhash in /usr/local/lib/python3.10/dist-packages (from datasets->ragas->deepeval) (3.5.0)\n",
            "Requirement already satisfied: multiprocess<0.70.17 in /usr/local/lib/python3.10/dist-packages (from datasets->ragas->deepeval) (0.70.16)\n",
            "Requirement already satisfied: fsspec<=2024.9.0,>=2023.1.0 in /usr/local/lib/python3.10/dist-packages (from fsspec[http]<=2024.9.0,>=2023.1.0->datasets->ragas->deepeval) (2024.9.0)\n",
            "Requirement already satisfied: huggingface-hub>=0.23.0 in /usr/local/lib/python3.10/dist-packages (from datasets->ragas->deepeval) (0.26.2)\n",
            "Requirement already satisfied: dataclasses-json<0.7,>=0.5.7 in /usr/local/lib/python3.10/dist-packages (from langchain-community->ragas->deepeval) (0.6.7)\n",
            "Requirement already satisfied: httpx-sse<0.5.0,>=0.4.0 in /usr/local/lib/python3.10/dist-packages (from langchain-community->ragas->deepeval) (0.4.0)\n",
            "Requirement already satisfied: pydantic-settings<3.0.0,>=2.4.0 in /usr/local/lib/python3.10/dist-packages (from langchain-community->ragas->deepeval) (2.6.1)\n",
            "Requirement already satisfied: marshmallow<4.0.0,>=3.18.0 in /usr/local/lib/python3.10/dist-packages (from dataclasses-json<0.7,>=0.5.7->langchain-community->ragas->deepeval) (3.23.1)\n",
            "Requirement already satisfied: typing-inspect<1,>=0.4.0 in /usr/local/lib/python3.10/dist-packages (from dataclasses-json<0.7,>=0.5.7->langchain-community->ragas->deepeval) (0.9.0)\n",
            "Requirement already satisfied: httpcore==1.* in /usr/local/lib/python3.10/dist-packages (from httpx<1,>=0.23.0->langsmith<0.2.0,>=0.1.17->langchain->deepeval) (1.0.7)\n",
            "Requirement already satisfied: h11<0.15,>=0.13 in /usr/local/lib/python3.10/dist-packages (from httpcore==1.*->httpx<1,>=0.23.0->langsmith<0.2.0,>=0.1.17->langchain->deepeval) (0.14.0)\n",
            "Requirement already satisfied: python-dotenv>=0.21.0 in /usr/local/lib/python3.10/dist-packages (from pydantic-settings<3.0.0,>=2.4.0->langchain-community->ragas->deepeval) (1.0.1)\n",
            "Requirement already satisfied: python-dateutil>=2.8.2 in /usr/local/lib/python3.10/dist-packages (from pandas->datasets->ragas->deepeval) (2.8.2)\n",
            "Requirement already satisfied: pytz>=2020.1 in /usr/local/lib/python3.10/dist-packages (from pandas->datasets->ragas->deepeval) (2024.2)\n",
            "Requirement already satisfied: tzdata>=2022.7 in /usr/local/lib/python3.10/dist-packages (from pandas->datasets->ragas->deepeval) (2024.2)\n",
            "Requirement already satisfied: six>=1.5 in /usr/local/lib/python3.10/dist-packages (from python-dateutil>=2.8.2->pandas->datasets->ragas->deepeval) (1.16.0)\n",
            "Requirement already satisfied: mypy-extensions>=0.3.0 in /usr/local/lib/python3.10/dist-packages (from typing-inspect<1,>=0.4.0->dataclasses-json<0.7,>=0.5.7->langchain-community->ragas->deepeval) (1.0.0)\n",
            "Collecting weaviate-client==4.7.1\n",
            "  Downloading weaviate_client-4.7.1-py3-none-any.whl.metadata (3.3 kB)\n",
            "Requirement already satisfied: requests<3.0.0,>=2.30.0 in /usr/local/lib/python3.10/dist-packages (from weaviate-client==4.7.1) (2.32.3)\n",
            "Collecting httpx<=0.27.0,>=0.25.0 (from weaviate-client==4.7.1)\n",
            "  Downloading httpx-0.27.0-py3-none-any.whl.metadata (7.2 kB)\n",
            "Collecting validators==0.33.0 (from weaviate-client==4.7.1)\n",
            "  Downloading validators-0.33.0-py3-none-any.whl.metadata (3.8 kB)\n",
            "Collecting authlib<2.0.0,>=1.2.1 (from weaviate-client==4.7.1)\n",
            "  Downloading Authlib-1.3.2-py2.py3-none-any.whl.metadata (3.9 kB)\n",
            "Requirement already satisfied: pydantic<3.0.0,>=2.5.0 in /usr/local/lib/python3.10/dist-packages (from weaviate-client==4.7.1) (2.9.2)\n",
            "Requirement already satisfied: grpcio<2.0.0,>=1.57.0 in /usr/local/lib/python3.10/dist-packages (from weaviate-client==4.7.1) (1.63.2)\n",
            "Collecting grpcio-tools<2.0.0,>=1.57.0 (from weaviate-client==4.7.1)\n",
            "  Downloading grpcio_tools-1.68.0-cp310-cp310-manylinux_2_17_x86_64.manylinux2014_x86_64.whl.metadata (5.3 kB)\n",
            "Collecting grpcio-health-checking<2.0.0,>=1.57.0 (from weaviate-client==4.7.1)\n",
            "  Downloading grpcio_health_checking-1.68.0-py3-none-any.whl.metadata (1.1 kB)\n",
            "Requirement already satisfied: cryptography in /usr/local/lib/python3.10/dist-packages (from authlib<2.0.0,>=1.2.1->weaviate-client==4.7.1) (43.0.3)\n",
            "Collecting protobuf<6.0dev,>=5.26.1 (from grpcio-health-checking<2.0.0,>=1.57.0->weaviate-client==4.7.1)\n",
            "  Downloading protobuf-5.28.3-cp38-abi3-manylinux2014_x86_64.whl.metadata (592 bytes)\n",
            "Collecting grpcio<2.0.0,>=1.57.0 (from weaviate-client==4.7.1)\n",
            "  Downloading grpcio-1.68.0-cp310-cp310-manylinux_2_17_x86_64.manylinux2014_x86_64.whl.metadata (3.9 kB)\n",
            "Requirement already satisfied: setuptools in /usr/local/lib/python3.10/dist-packages (from grpcio-tools<2.0.0,>=1.57.0->weaviate-client==4.7.1) (75.1.0)\n",
            "Requirement already satisfied: anyio in /usr/local/lib/python3.10/dist-packages (from httpx<=0.27.0,>=0.25.0->weaviate-client==4.7.1) (3.7.1)\n",
            "Requirement already satisfied: certifi in /usr/local/lib/python3.10/dist-packages (from httpx<=0.27.0,>=0.25.0->weaviate-client==4.7.1) (2024.8.30)\n",
            "Requirement already satisfied: httpcore==1.* in /usr/local/lib/python3.10/dist-packages (from httpx<=0.27.0,>=0.25.0->weaviate-client==4.7.1) (1.0.7)\n",
            "Requirement already satisfied: idna in /usr/local/lib/python3.10/dist-packages (from httpx<=0.27.0,>=0.25.0->weaviate-client==4.7.1) (3.10)\n",
            "Requirement already satisfied: sniffio in /usr/local/lib/python3.10/dist-packages (from httpx<=0.27.0,>=0.25.0->weaviate-client==4.7.1) (1.3.1)\n",
            "Requirement already satisfied: h11<0.15,>=0.13 in /usr/local/lib/python3.10/dist-packages (from httpcore==1.*->httpx<=0.27.0,>=0.25.0->weaviate-client==4.7.1) (0.14.0)\n",
            "Requirement already satisfied: annotated-types>=0.6.0 in /usr/local/lib/python3.10/dist-packages (from pydantic<3.0.0,>=2.5.0->weaviate-client==4.7.1) (0.7.0)\n",
            "Requirement already satisfied: pydantic-core==2.23.4 in /usr/local/lib/python3.10/dist-packages (from pydantic<3.0.0,>=2.5.0->weaviate-client==4.7.1) (2.23.4)\n",
            "Requirement already satisfied: typing-extensions>=4.6.1 in /usr/local/lib/python3.10/dist-packages (from pydantic<3.0.0,>=2.5.0->weaviate-client==4.7.1) (4.12.2)\n",
            "Requirement already satisfied: charset-normalizer<4,>=2 in /usr/local/lib/python3.10/dist-packages (from requests<3.0.0,>=2.30.0->weaviate-client==4.7.1) (3.4.0)\n",
            "Requirement already satisfied: urllib3<3,>=1.21.1 in /usr/local/lib/python3.10/dist-packages (from requests<3.0.0,>=2.30.0->weaviate-client==4.7.1) (2.2.3)\n",
            "Requirement already satisfied: exceptiongroup in /usr/local/lib/python3.10/dist-packages (from anyio->httpx<=0.27.0,>=0.25.0->weaviate-client==4.7.1) (1.2.2)\n",
            "Requirement already satisfied: cffi>=1.12 in /usr/local/lib/python3.10/dist-packages (from cryptography->authlib<2.0.0,>=1.2.1->weaviate-client==4.7.1) (1.17.1)\n",
            "Requirement already satisfied: pycparser in /usr/local/lib/python3.10/dist-packages (from cffi>=1.12->cryptography->authlib<2.0.0,>=1.2.1->weaviate-client==4.7.1) (2.22)\n",
            "Downloading weaviate_client-4.7.1-py3-none-any.whl (368 kB)\n",
            "\u001b[2K   \u001b[90m━━━━━━━━━━━━━━━━━━━━━━━━━━━━━━━━━━━━━━━━\u001b[0m \u001b[32m368.3/368.3 kB\u001b[0m \u001b[31m2.8 MB/s\u001b[0m eta \u001b[36m0:00:00\u001b[0m\n",
            "\u001b[?25hDownloading validators-0.33.0-py3-none-any.whl (43 kB)\n",
            "\u001b[2K   \u001b[90m━━━━━━━━━━━━━━━━━━━━━━━━━━━━━━━━━━━━━━━━\u001b[0m \u001b[32m43.3/43.3 kB\u001b[0m \u001b[31m2.7 MB/s\u001b[0m eta \u001b[36m0:00:00\u001b[0m\n",
            "\u001b[?25hDownloading Authlib-1.3.2-py2.py3-none-any.whl (225 kB)\n",
            "\u001b[2K   \u001b[90m━━━━━━━━━━━━━━━━━━━━━━━━━━━━━━━━━━━━━━━━\u001b[0m \u001b[32m225.1/225.1 kB\u001b[0m \u001b[31m14.9 MB/s\u001b[0m eta \u001b[36m0:00:00\u001b[0m\n",
            "\u001b[?25hDownloading grpcio_health_checking-1.68.0-py3-none-any.whl (18 kB)\n",
            "Downloading grpcio-1.68.0-cp310-cp310-manylinux_2_17_x86_64.manylinux2014_x86_64.whl (5.9 MB)\n",
            "\u001b[2K   \u001b[90m━━━━━━━━━━━━━━━━━━━━━━━━━━━━━━━━━━━━━━━━\u001b[0m \u001b[32m5.9/5.9 MB\u001b[0m \u001b[31m60.1 MB/s\u001b[0m eta \u001b[36m0:00:00\u001b[0m\n",
            "\u001b[?25hDownloading grpcio_tools-1.68.0-cp310-cp310-manylinux_2_17_x86_64.manylinux2014_x86_64.whl (2.4 MB)\n",
            "\u001b[2K   \u001b[90m━━━━━━━━━━━━━━━━━━━━━━━━━━━━━━━━━━━━━━━━\u001b[0m \u001b[32m2.4/2.4 MB\u001b[0m \u001b[31m50.1 MB/s\u001b[0m eta \u001b[36m0:00:00\u001b[0m\n",
            "\u001b[?25hDownloading httpx-0.27.0-py3-none-any.whl (75 kB)\n",
            "\u001b[2K   \u001b[90m━━━━━━━━━━━━━━━━━━━━━━━━━━━━━━━━━━━━━━━━\u001b[0m \u001b[32m75.6/75.6 kB\u001b[0m \u001b[31m5.3 MB/s\u001b[0m eta \u001b[36m0:00:00\u001b[0m\n",
            "\u001b[?25hDownloading protobuf-5.28.3-cp38-abi3-manylinux2014_x86_64.whl (316 kB)\n",
            "\u001b[2K   \u001b[90m━━━━━━━━━━━━━━━━━━━━━━━━━━━━━━━━━━━━━━━━\u001b[0m \u001b[32m316.6/316.6 kB\u001b[0m \u001b[31m17.9 MB/s\u001b[0m eta \u001b[36m0:00:00\u001b[0m\n",
            "\u001b[?25hInstalling collected packages: validators, protobuf, grpcio, httpx, grpcio-tools, grpcio-health-checking, authlib, weaviate-client\n",
            "  Attempting uninstall: protobuf\n",
            "    Found existing installation: protobuf 4.25.5\n",
            "    Uninstalling protobuf-4.25.5:\n",
            "      Successfully uninstalled protobuf-4.25.5\n",
            "  Attempting uninstall: grpcio\n",
            "    Found existing installation: grpcio 1.63.2\n",
            "    Uninstalling grpcio-1.63.2:\n",
            "      Successfully uninstalled grpcio-1.63.2\n",
            "  Attempting uninstall: httpx\n",
            "    Found existing installation: httpx 0.27.2\n",
            "    Uninstalling httpx-0.27.2:\n",
            "      Successfully uninstalled httpx-0.27.2\n",
            "\u001b[31mERROR: pip's dependency resolver does not currently take into account all the packages that are installed. This behaviour is the source of the following dependency conflicts.\n",
            "deepeval 1.5.8 requires grpcio~=1.63.0, but you have grpcio 1.68.0 which is incompatible.\n",
            "google-cloud-pubsub 2.27.1 requires opentelemetry-api>=1.27.0; python_version >= \"3.8\", but you have opentelemetry-api 1.24.0 which is incompatible.\n",
            "google-cloud-pubsub 2.27.1 requires opentelemetry-sdk>=1.27.0; python_version >= \"3.8\", but you have opentelemetry-sdk 1.24.0 which is incompatible.\n",
            "opentelemetry-proto 1.24.0 requires protobuf<5.0,>=3.19, but you have protobuf 5.28.3 which is incompatible.\n",
            "tensorflow 2.17.1 requires protobuf!=4.21.0,!=4.21.1,!=4.21.2,!=4.21.3,!=4.21.4,!=4.21.5,<5.0.0dev,>=3.20.3, but you have protobuf 5.28.3 which is incompatible.\n",
            "tensorflow-metadata 1.13.1 requires protobuf<5,>=3.20.3, but you have protobuf 5.28.3 which is incompatible.\u001b[0m\u001b[31m\n",
            "\u001b[0mSuccessfully installed authlib-1.3.2 grpcio-1.68.0 grpcio-health-checking-1.68.0 grpcio-tools-1.68.0 httpx-0.27.0 protobuf-5.28.3 validators-0.33.0 weaviate-client-4.7.1\n",
            "Collecting python-dotenv==1.0.0\n",
            "  Downloading python_dotenv-1.0.0-py3-none-any.whl.metadata (21 kB)\n",
            "Downloading python_dotenv-1.0.0-py3-none-any.whl (19 kB)\n",
            "Installing collected packages: python-dotenv\n",
            "  Attempting uninstall: python-dotenv\n",
            "    Found existing installation: python-dotenv 1.0.1\n",
            "    Uninstalling python-dotenv-1.0.1:\n",
            "      Successfully uninstalled python-dotenv-1.0.1\n",
            "Successfully installed python-dotenv-1.0.0\n",
            "Collecting openai==1.54.3\n",
            "  Downloading openai-1.54.3-py3-none-any.whl.metadata (24 kB)\n",
            "Requirement already satisfied: anyio<5,>=3.5.0 in /usr/local/lib/python3.10/dist-packages (from openai==1.54.3) (3.7.1)\n",
            "Requirement already satisfied: distro<2,>=1.7.0 in /usr/local/lib/python3.10/dist-packages (from openai==1.54.3) (1.9.0)\n",
            "Requirement already satisfied: httpx<1,>=0.23.0 in /usr/local/lib/python3.10/dist-packages (from openai==1.54.3) (0.27.0)\n",
            "Requirement already satisfied: jiter<1,>=0.4.0 in /usr/local/lib/python3.10/dist-packages (from openai==1.54.3) (0.7.1)\n",
            "Requirement already satisfied: pydantic<3,>=1.9.0 in /usr/local/lib/python3.10/dist-packages (from openai==1.54.3) (2.9.2)\n",
            "Requirement already satisfied: sniffio in /usr/local/lib/python3.10/dist-packages (from openai==1.54.3) (1.3.1)\n",
            "Requirement already satisfied: tqdm>4 in /usr/local/lib/python3.10/dist-packages (from openai==1.54.3) (4.66.6)\n",
            "Requirement already satisfied: typing-extensions<5,>=4.11 in /usr/local/lib/python3.10/dist-packages (from openai==1.54.3) (4.12.2)\n",
            "Requirement already satisfied: idna>=2.8 in /usr/local/lib/python3.10/dist-packages (from anyio<5,>=3.5.0->openai==1.54.3) (3.10)\n",
            "Requirement already satisfied: exceptiongroup in /usr/local/lib/python3.10/dist-packages (from anyio<5,>=3.5.0->openai==1.54.3) (1.2.2)\n",
            "Requirement already satisfied: certifi in /usr/local/lib/python3.10/dist-packages (from httpx<1,>=0.23.0->openai==1.54.3) (2024.8.30)\n",
            "Requirement already satisfied: httpcore==1.* in /usr/local/lib/python3.10/dist-packages (from httpx<1,>=0.23.0->openai==1.54.3) (1.0.7)\n",
            "Requirement already satisfied: h11<0.15,>=0.13 in /usr/local/lib/python3.10/dist-packages (from httpcore==1.*->httpx<1,>=0.23.0->openai==1.54.3) (0.14.0)\n",
            "Requirement already satisfied: annotated-types>=0.6.0 in /usr/local/lib/python3.10/dist-packages (from pydantic<3,>=1.9.0->openai==1.54.3) (0.7.0)\n",
            "Requirement already satisfied: pydantic-core==2.23.4 in /usr/local/lib/python3.10/dist-packages (from pydantic<3,>=1.9.0->openai==1.54.3) (2.23.4)\n",
            "Downloading openai-1.54.3-py3-none-any.whl (389 kB)\n",
            "\u001b[2K   \u001b[90m━━━━━━━━━━━━━━━━━━━━━━━━━━━━━━━━━━━━━━━━\u001b[0m \u001b[32m389.6/389.6 kB\u001b[0m \u001b[31m10.4 MB/s\u001b[0m eta \u001b[36m0:00:00\u001b[0m\n",
            "\u001b[?25hInstalling collected packages: openai\n",
            "  Attempting uninstall: openai\n",
            "    Found existing installation: openai 1.54.4\n",
            "    Uninstalling openai-1.54.4:\n",
            "      Successfully uninstalled openai-1.54.4\n",
            "Successfully installed openai-1.54.3\n"
          ]
        }
      ]
    },
    {
      "cell_type": "code",
      "execution_count": 86,
      "metadata": {
        "id": "Uw2kC8a_CGF-"
      },
      "outputs": [],
      "source": [
        "import os\n",
        "import json\n",
        "from typing import List\n",
        "from langchain_openai import ChatOpenAI\n",
        "from deepeval import evaluate\n",
        "from deepeval.metrics import ContextualRelevancyMetric, FaithfulnessMetric, GEval\n",
        "from deepeval.test_case import LLMTestCase\n",
        "from deepeval.test_case import LLMTestCaseParams\n",
        "from weaviate.classes.query import MetadataQuery\n",
        "from dotenv import load_dotenv\n",
        "import weaviate"
      ]
    },
    {
      "cell_type": "markdown",
      "source": [
        "### Environmental Variables & Configurations"
      ],
      "metadata": {
        "id": "DfPZ2HZhDQj4"
      }
    },
    {
      "cell_type": "code",
      "source": [
        "from dotenv import load_dotenv\n",
        "import os\n",
        "\n",
        "# Load environment variables\n",
        "dotenv_path = os.path.join(os.getcwd(), \".env\")\n",
        "load_dotenv(dotenv_path)\n",
        "\n",
        "# Retrieve environment variables with fallbacks\n",
        "OPENAI_API_KEY = os.getenv('OPENAI_API_KEY', '')\n",
        "WEAVIATE_URL_VERBA = os.getenv('WEAVIATE_URL_VERBA', '')\n",
        "WEAVIATE_API_KEY_VERBA = os.getenv('WEAVIATE_API_KEY_VERBA', '')\n",
        "\n",
        "# Validate lengths\n",
        "print(len(WEAVIATE_URL_VERBA) > 20)\n",
        "print(len(WEAVIATE_API_KEY_VERBA) > 20)\n",
        "print(len(OPENAI_API_KEY) > 20)\n"
      ],
      "metadata": {
        "colab": {
          "base_uri": "https://localhost:8080/"
        },
        "id": "ZY2LmWumFQr1",
        "outputId": "ae63d937-cb34-4a6b-ca1f-e5371795fa8d"
      },
      "execution_count": 18,
      "outputs": [
        {
          "output_type": "stream",
          "name": "stdout",
          "text": [
            "True\n",
            "True\n",
            "True\n"
          ]
        }
      ]
    },
    {
      "cell_type": "code",
      "source": [
        "# Embedding\n",
        "EMBEDDING_MODEL = \"text-embedding-3-small\"\n",
        "ENCODING_FORMAT = \"float\"\n",
        "\n",
        "# Database\n",
        "COLLECTION_NAME = \"VERBA_Embedding_text_embedding_3_small\""
      ],
      "metadata": {
        "id": "Ere-rR1rGLXZ"
      },
      "execution_count": 19,
      "outputs": []
    },
    {
      "cell_type": "markdown",
      "source": [
        "### Connections"
      ],
      "metadata": {
        "id": "LKnCDEZSGOR1"
      }
    },
    {
      "cell_type": "code",
      "source": [
        "# VECTOR DATABASE CONNECTION\n",
        "\n",
        "from weaviate.classes.init import Auth, AdditionalConfig, Timeout\n",
        "import weaviate\n",
        "\n",
        "client_db = weaviate.connect_to_weaviate_cloud(\n",
        "    cluster_url = WEAVIATE_URL_VERBA,\n",
        "    auth_credentials = Auth.api_key(WEAVIATE_API_KEY_VERBA),\n",
        "    additional_config=AdditionalConfig(timeout=Timeout(init=30, query=60, insert=120))  # Values in seconds\n",
        ")\n",
        "\n",
        "print(client_db.is_ready())"
      ],
      "metadata": {
        "colab": {
          "base_uri": "https://localhost:8080/"
        },
        "id": "DNtz8Md_GRQb",
        "outputId": "a55e3eea-da06-445b-fae8-79377b432847"
      },
      "execution_count": 20,
      "outputs": [
        {
          "output_type": "stream",
          "name": "stdout",
          "text": [
            "True\n"
          ]
        }
      ]
    },
    {
      "cell_type": "code",
      "source": [
        "from weaviate import Client\n",
        "from weaviate.auth import AuthApiKey\n",
        "\n",
        "# Ensure the Weaviate URL and API key are correctly loaded\n",
        "WEAVIATE_URL_VERBA = os.getenv(\"WEAVIATE_URL_VERBA\")\n",
        "WEAVIATE_API_KEY_VERBA = os.getenv(\"WEAVIATE_API_KEY_VERBA\")\n",
        "\n",
        "if not WEAVIATE_URL_VERBA or not WEAVIATE_API_KEY_VERBA:\n",
        "    raise ValueError(\"Weaviate URL or API key not set. Check your environment variables.\")\n",
        "\n",
        "# Initialize the Weaviate client\n",
        "client_db = Client(\n",
        "    url=WEAVIATE_URL_VERBA,\n",
        "    auth_client_secret=AuthApiKey(api_key=WEAVIATE_API_KEY_VERBA)\n",
        ")\n",
        "\n",
        "# Check if the client is ready\n",
        "if not client_db.is_ready():\n",
        "    raise ConnectionError(\"Weaviate is not ready. Check your connection or configuration.\")\n",
        "\n",
        "print(\"Weaviate client initialized successfully!\")\n"
      ],
      "metadata": {
        "colab": {
          "base_uri": "https://localhost:8080/"
        },
        "id": "zHd96fCrNAMx",
        "outputId": "edcf8ede-1e6c-4e48-9e3d-b47870eb078d"
      },
      "execution_count": 40,
      "outputs": [
        {
          "output_type": "stream",
          "name": "stdout",
          "text": [
            "Weaviate client initialized successfully!\n"
          ]
        }
      ]
    },
    {
      "cell_type": "code",
      "source": [
        "# Extracts the actual vector embedding from the OpenAI response\n",
        "# https://platform.openai.com/docs/api-reference/embeddings/create\n",
        "def openai_extract_vector(\n",
        "        response\n",
        "    ) -> list[float]:\n",
        "\n",
        "    return response.data[0].embedding"
      ],
      "metadata": {
        "id": "MgR5wkamGZX1"
      },
      "execution_count": 21,
      "outputs": []
    },
    {
      "cell_type": "code",
      "source": [
        "# EMBEDDING CONNECTION - OPENAI\n",
        "# https://platform.openai.com/docs/api-reference/authentication\n",
        "\n",
        "import openai\n",
        "from openai import OpenAI\n",
        "\n",
        "# Set API Key.  Not necessary if you have an\n",
        "# OPENAI_API_KEY variable in your environment\n",
        "openai.api_key = OPENAI_API_KEY\n",
        "\n",
        "client_embedding = OpenAI()"
      ],
      "metadata": {
        "id": "44-SUzkbGafM"
      },
      "execution_count": 22,
      "outputs": []
    },
    {
      "cell_type": "code",
      "source": [
        "# GENERATION CONNECTION - OPENAI\n",
        "# https://platform.openai.com/docs/api-reference/authentication\n",
        "\n",
        "import openai\n",
        "from openai import OpenAI\n",
        "\n",
        "# Set API Key.  Not necessary if you have an\n",
        "# OPENAI_API_KEY variable in your environment\n",
        "openai.api_key = OPENAI_API_KEY\n",
        "\n",
        "generation_client = OpenAI()"
      ],
      "metadata": {
        "id": "77Qekt5PGczq"
      },
      "execution_count": 23,
      "outputs": []
    },
    {
      "cell_type": "markdown",
      "source": [
        "### Metrics for Evaluation"
      ],
      "metadata": {
        "id": "bAQGL6I9HAxO"
      }
    },
    {
      "cell_type": "code",
      "source": [
        "correctness_metric = GEval(\n",
        "    name=\"Correctness\",\n",
        "    model=\"gpt-4o\",\n",
        "    evaluation_params=[\n",
        "        LLMTestCaseParams.EXPECTED_OUTPUT,\n",
        "        LLMTestCaseParams.ACTUAL_OUTPUT,\n",
        "    ],\n",
        "    evaluation_steps=[\"Determine whether the actual output is factually correct based on the expected output.\"]\n",
        ")\n",
        "\n",
        "faithfulness_metric = FaithfulnessMetric(\n",
        "    threshold=0.7, model=\"gpt-4\", include_reason=False\n",
        ")\n",
        "\n",
        "relevance_metric = ContextualRelevancyMetric(\n",
        "    threshold=1, model=\"gpt-4\", include_reason=True\n",
        ")"
      ],
      "metadata": {
        "id": "8GVg_KccHC5I"
      },
      "execution_count": 87,
      "outputs": []
    },
    {
      "cell_type": "markdown",
      "source": [
        "### Helper Functions"
      ],
      "metadata": {
        "id": "sKcMgnQIHHpO"
      }
    },
    {
      "cell_type": "markdown",
      "source": [
        "Function: Retrieve Context from Weaviate"
      ],
      "metadata": {
        "id": "HEIl4CrmHOHw"
      }
    },
    {
      "cell_type": "code",
      "source": [
        "def retrieve_context_from_weaviate(query_text, class_name, limit=5):\n",
        "    \"\"\"\n",
        "    Retrieve context chunks from Weaviate using a vector query.\n",
        "\n",
        "    Args:\n",
        "        query_text (str): The input query text.\n",
        "        class_name (str): The class name in Weaviate.\n",
        "        limit (int): The number of results to retrieve.\n",
        "\n",
        "    Returns:\n",
        "        List[str]: Retrieved context chunks.\n",
        "\n",
        "    Raises:\n",
        "        ValueError: If the response is invalid or the class is not found in the schema.\n",
        "    \"\"\"\n",
        "    # Step 1: Verify the class name exists in the schema\n",
        "    schema = client_db.schema.get()\n",
        "    available_classes = [cls[\"class\"] for cls in schema[\"classes\"]]\n",
        "    if class_name not in available_classes:\n",
        "        raise ValueError(f\"Class '{class_name}' not found in schema. Available classes: {available_classes}\")\n",
        "\n",
        "    # Step 2: Generate embedding for the query text\n",
        "    response_embedding = client_embedding.embeddings.create(\n",
        "        model=EMBEDDING_MODEL, input=query_text, encoding_format=ENCODING_FORMAT\n",
        "    )\n",
        "    query_vector = openai_extract_vector(response_embedding)\n",
        "\n",
        "    # Step 3: Build and execute the GraphQL query\n",
        "    graphql_query = f\"\"\"\n",
        "    {{\n",
        "      Get {{\n",
        "        {class_name}(\n",
        "          nearVector: {{vector: [{\", \".join(map(str, query_vector))}]}}\n",
        "          limit: {limit}\n",
        "        ) {{\n",
        "          content\n",
        "          chunk_id\n",
        "        }}\n",
        "      }}\n",
        "    }}\n",
        "    \"\"\"\n",
        "\n",
        "    # Execute the query\n",
        "    response = client_db.query.raw(graphql_query)\n",
        "\n",
        "    # Step 4: Parse and validate the response\n",
        "    if \"data\" in response and \"Get\" in response[\"data\"] and class_name in response[\"data\"][\"Get\"]:\n",
        "        results = response[\"data\"][\"Get\"][class_name]\n",
        "        return [result[\"content\"] for result in results if \"content\" in result]\n",
        "    else:\n",
        "        raise ValueError(f\"Invalid response or no results found: {response}\")\n",
        "\n"
      ],
      "metadata": {
        "id": "U_6sZiv2HT86"
      },
      "execution_count": 62,
      "outputs": []
    },
    {
      "cell_type": "code",
      "source": [
        "from langchain import PromptTemplate\n",
        "\n",
        "def create_question_answer_from_context_chain(llm):\n",
        "    \"\"\"\n",
        "    Creates a chain for answering questions based on context using an LLM.\n",
        "\n",
        "    Args:\n",
        "        llm: A language model instance (e.g., OpenAI's ChatGPT).\n",
        "\n",
        "    Returns:\n",
        "        A chain that takes a context and a question as input and generates an answer.\n",
        "    \"\"\"\n",
        "    # Define the prompt template\n",
        "    question_answer_prompt_template = \"\"\"\n",
        "    For the question below, provide a concise but sufficient answer based ONLY on the provided context:\n",
        "    {context}\n",
        "    Question:\n",
        "    {question}\n",
        "    \"\"\"\n",
        "\n",
        "    # Create a PromptTemplate object with the specified template and input variables\n",
        "    question_answer_from_context_prompt = PromptTemplate(\n",
        "        template=question_answer_prompt_template,\n",
        "        input_variables=[\"context\", \"question\"],\n",
        "    )\n",
        "\n",
        "    # Combine the prompt template and the language model\n",
        "    question_answer_from_context_cot_chain = (\n",
        "        question_answer_from_context_prompt\n",
        "        | llm\n",
        "    )\n",
        "\n",
        "    return question_answer_from_context_cot_chain"
      ],
      "metadata": {
        "id": "6htgQ2O8SO5e"
      },
      "execution_count": 57,
      "outputs": []
    },
    {
      "cell_type": "code",
      "source": [
        "def retrieve_context_per_question(question, chunks_query_retriever):\n",
        "    \"\"\"\n",
        "    Retrieves the relevant context for a given question using the specified retriever.\n",
        "\n",
        "    Args:\n",
        "        question (str): The question to retrieve context for.\n",
        "        chunks_query_retriever (function): A function to retrieve context chunks.\n",
        "\n",
        "    Returns:\n",
        "        List[str]: A list of retrieved context strings.\n",
        "    \"\"\"\n",
        "    try:\n",
        "        context = chunks_query_retriever(question, class_name=\"CreditComplaints\", limit=5)\n",
        "        return context\n",
        "    except Exception as e:\n",
        "        print(f\"Error retrieving context for question: {question}\")\n",
        "        print(f\"Error: {e}\")\n",
        "        return []\n"
      ],
      "metadata": {
        "id": "jtaYYgLvdFux"
      },
      "execution_count": 90,
      "outputs": []
    },
    {
      "cell_type": "markdown",
      "source": [
        "Function: Generate Answer from Context"
      ],
      "metadata": {
        "id": "zPPDe09fHkos"
      }
    },
    {
      "cell_type": "code",
      "source": [
        "def answer_question_from_context(question, context, chain):\n",
        "    \"\"\"\n",
        "    Answer a question using the given context and chain.\n",
        "\n",
        "    Args:\n",
        "        question (str): The question to be answered.\n",
        "        context (str): The context to be used for answering the question.\n",
        "        chain: The chain for generating the answer.\n",
        "\n",
        "    Returns:\n",
        "        dict: A dictionary containing the answer, context, and question.\n",
        "    \"\"\"\n",
        "    input_data = {\"context\": context, \"question\": question}\n",
        "    print(\"Answering the question from the retrieved context...\")\n",
        "\n",
        "    # Invoke the chain to get the result\n",
        "    output = chain.invoke(input_data)\n",
        "\n",
        "    # Extract the answer from the content attribute\n",
        "    if hasattr(output, \"content\"):\n",
        "        answer = output.content\n",
        "    else:\n",
        "        answer = \"No answer provided.\"\n",
        "\n",
        "    return {\"answer\": answer, \"context\": context, \"question\": question}\n"
      ],
      "metadata": {
        "id": "6bnNwHgoHuzb"
      },
      "execution_count": 58,
      "outputs": []
    },
    {
      "cell_type": "markdown",
      "source": [
        "Function: Create Test Cases"
      ],
      "metadata": {
        "id": "dV_SXyWCHxVr"
      }
    },
    {
      "cell_type": "code",
      "source": [
        "from typing import List\n",
        "from deepeval.test_case import LLMTestCase\n",
        "\n",
        "def create_deep_eval_test_cases(\n",
        "    questions: List[str],\n",
        "    gt_answers: List[str],\n",
        "    generated_answers: List[str],\n",
        "    retrieved_documents: List[str],\n",
        ") -> List[LLMTestCase]:\n",
        "    \"\"\"\n",
        "    Create a list of LLMTestCase objects for evaluation.\n",
        "\n",
        "    Args:\n",
        "        questions (List[str]): List of input questions.\n",
        "        gt_answers (List[str]): List of ground truth answers.\n",
        "        generated_answers (List[str]): List of generated answers.\n",
        "        retrieved_documents (List[str]): List of retrieved documents.\n",
        "\n",
        "    Returns:\n",
        "        List[LLMTestCase]: List of LLMTestCase objects.\n",
        "    \"\"\"\n",
        "    return [\n",
        "        LLMTestCase(\n",
        "            input=question,\n",
        "            expected_output=gt_answer,\n",
        "            actual_output=generated_answer,\n",
        "            retrieval_context=[retrieved_document],\n",
        "        )\n",
        "        for question, gt_answer, generated_answer, retrieved_document in zip(\n",
        "            questions, gt_answers, generated_answers, retrieved_documents\n",
        "        )\n",
        "    ]\n"
      ],
      "metadata": {
        "id": "4jfVkz-DY4Pd"
      },
      "execution_count": 83,
      "outputs": []
    },
    {
      "cell_type": "markdown",
      "source": [
        "Function: Evaluate RAG System"
      ],
      "metadata": {
        "id": "13zI1H6_H4vB"
      }
    },
    {
      "cell_type": "code",
      "source": [
        "def evaluate_rag(chunks_query_retriever, q_a_file, num_questions=5):\n",
        "    \"\"\"\n",
        "    Evaluate the RAG system using predefined metrics.\n",
        "\n",
        "    Args:\n",
        "        chunks_query_retriever: Function to retrieve context chunks for a given query.\n",
        "        q_a_file (str): Path to the JSON file containing questions and answers.\n",
        "        num_questions (int): Number of questions to evaluate (default: 5).\n",
        "    \"\"\"\n",
        "    llm = ChatOpenAI(temperature=0, model_name=\"gpt-4o\", max_tokens=2000)\n",
        "    question_answer_from_context_chain = create_question_answer_from_context_chain(llm)\n",
        "\n",
        "    # Load questions and answers from JSON file\n",
        "    with open(q_a_file, \"r\", encoding=\"utf-8\") as json_file:\n",
        "        q_a_data = json.load(json_file)\n",
        "\n",
        "    questions = [item[\"properties\"][\"question\"] for item in q_a_data][:num_questions]\n",
        "    ground_truth_answers = [item[\"properties\"][\"answer\"] for item in q_a_data][:num_questions]\n",
        "    generated_answers = []\n",
        "    retrieved_documents = []\n",
        "\n",
        "    # Generate answers and retrieve documents for each question\n",
        "    for question in questions:\n",
        "        print(f\"Processing question: {question}\")\n",
        "\n",
        "        # Retrieve context\n",
        "        context = chunks_query_retriever(\n",
        "            query_text=question,\n",
        "            class_name=\"VERBA_Embedding_text_embedding_3_small\",\n",
        "            limit=5\n",
        "        )\n",
        "\n",
        "        if not context:\n",
        "            context = [\"No relevant context found\"]  # Fallback for empty context\n",
        "\n",
        "        # Validate the context is a list of strings\n",
        "        if not all(isinstance(doc, str) for doc in context):\n",
        "            raise TypeError(\"Retrieved context must be a list of strings.\")\n",
        "\n",
        "        # Flatten and append to retrieved_documents\n",
        "        retrieved_documents.append(\" \".join(context))  # Join context chunks into a single string\n",
        "\n",
        "        # Answer the question using the retrieved context\n",
        "        context_string = \" \".join(context)\n",
        "        result = answer_question_from_context(\n",
        "            question, context_string, question_answer_from_context_chain\n",
        "        )\n",
        "        generated_answers.append(result[\"answer\"])\n",
        "\n",
        "    # Create test cases and evaluate\n",
        "    test_cases = create_deep_eval_test_cases(\n",
        "        questions, ground_truth_answers, generated_answers, retrieved_documents\n",
        "    )\n",
        "    evaluate(\n",
        "        test_cases=test_cases,\n",
        "        metrics=[correctness_metric, faithfulness_metric, relevance_metric],\n",
        "    )"
      ],
      "metadata": {
        "id": "bHcOi0nOcdL3"
      },
      "execution_count": 94,
      "outputs": []
    },
    {
      "cell_type": "code",
      "source": [
        "evaluate_rag(\n",
        "    chunks_query_retriever=retrieve_context_from_weaviate,\n",
        "    q_a_file=\"q_a.json\",\n",
        "    num_questions=3\n",
        ")\n"
      ],
      "metadata": {
        "colab": {
          "base_uri": "https://localhost:8080/",
          "height": 1000
        },
        "id": "XdcAaJTXJj_x",
        "outputId": "22d0ee5c-4250-4b4b-bef3-c973ed81be51"
      },
      "execution_count": 96,
      "outputs": [
        {
          "output_type": "stream",
          "name": "stdout",
          "text": [
            "Processing question: What are the top complaint categories for Wells Fargo?\n",
            "Answering the question from the retrieved context...\n",
            "Processing question: What percentage of complaints about Bank of America were resolved?\n",
            "Answering the question from the retrieved context...\n",
            "Processing question: How many complaints were filed in June 2024 for Wells Fargo?\n",
            "Answering the question from the retrieved context...\n"
          ]
        },
        {
          "output_type": "display_data",
          "data": {
            "text/plain": [
              "✨ You're running DeepEval's latest \u001b[38;2;106;0;255mCorrectness \u001b[0m\u001b[1;38;2;106;0;255m(\u001b[0m\u001b[38;2;106;0;255mGEval\u001b[0m\u001b[1;38;2;106;0;255m)\u001b[0m\u001b[38;2;106;0;255m Metric\u001b[0m! \u001b[1;38;2;55;65;81m(\u001b[0m\u001b[38;2;55;65;81musing gpt-4o, \u001b[0m\u001b[38;2;55;65;81mstrict\u001b[0m\u001b[38;2;55;65;81m=\u001b[0m\u001b[3;38;2;55;65;81mFalse\u001b[0m\u001b[38;2;55;65;81m, \u001b[0m\u001b[38;2;55;65;81masync_mode\u001b[0m\u001b[38;2;55;65;81m=\u001b[0m\u001b[3;38;2;55;65;81mTrue\u001b[0m\u001b[1;38;2;55;65;81m)\u001b[0m\u001b[38;2;55;65;81m...\u001b[0m\n"
            ],
            "text/html": [
              "<pre style=\"white-space:pre;overflow-x:auto;line-height:normal;font-family:Menlo,'DejaVu Sans Mono',consolas,'Courier New',monospace\">✨ You're running DeepEval's latest <span style=\"color: #6a00ff; text-decoration-color: #6a00ff\">Correctness </span><span style=\"color: #6a00ff; text-decoration-color: #6a00ff; font-weight: bold\">(</span><span style=\"color: #6a00ff; text-decoration-color: #6a00ff\">GEval</span><span style=\"color: #6a00ff; text-decoration-color: #6a00ff; font-weight: bold\">)</span><span style=\"color: #6a00ff; text-decoration-color: #6a00ff\"> Metric</span>! <span style=\"color: #374151; text-decoration-color: #374151; font-weight: bold\">(</span><span style=\"color: #374151; text-decoration-color: #374151\">using gpt-4o, </span><span style=\"color: #374151; text-decoration-color: #374151\">strict</span><span style=\"color: #374151; text-decoration-color: #374151\">=</span><span style=\"color: #374151; text-decoration-color: #374151; font-style: italic\">False</span><span style=\"color: #374151; text-decoration-color: #374151\">, </span><span style=\"color: #374151; text-decoration-color: #374151\">async_mode</span><span style=\"color: #374151; text-decoration-color: #374151\">=</span><span style=\"color: #374151; text-decoration-color: #374151; font-style: italic\">True</span><span style=\"color: #374151; text-decoration-color: #374151; font-weight: bold\">)</span><span style=\"color: #374151; text-decoration-color: #374151\">...</span>\n",
              "</pre>\n"
            ]
          },
          "metadata": {}
        },
        {
          "output_type": "display_data",
          "data": {
            "text/plain": [
              "✨ You're running DeepEval's latest \u001b[38;2;106;0;255mFaithfulness Metric\u001b[0m! \u001b[1;38;2;55;65;81m(\u001b[0m\u001b[38;2;55;65;81musing gpt-\u001b[0m\u001b[1;38;2;55;65;81m4\u001b[0m\u001b[38;2;55;65;81m, \u001b[0m\u001b[38;2;55;65;81mstrict\u001b[0m\u001b[38;2;55;65;81m=\u001b[0m\u001b[3;38;2;55;65;81mFalse\u001b[0m\u001b[38;2;55;65;81m, \u001b[0m\u001b[38;2;55;65;81masync_mode\u001b[0m\u001b[38;2;55;65;81m=\u001b[0m\u001b[3;38;2;55;65;81mTrue\u001b[0m\u001b[1;38;2;55;65;81m)\u001b[0m\u001b[38;2;55;65;81m...\u001b[0m\n"
            ],
            "text/html": [
              "<pre style=\"white-space:pre;overflow-x:auto;line-height:normal;font-family:Menlo,'DejaVu Sans Mono',consolas,'Courier New',monospace\">✨ You're running DeepEval's latest <span style=\"color: #6a00ff; text-decoration-color: #6a00ff\">Faithfulness Metric</span>! <span style=\"color: #374151; text-decoration-color: #374151; font-weight: bold\">(</span><span style=\"color: #374151; text-decoration-color: #374151\">using gpt-</span><span style=\"color: #374151; text-decoration-color: #374151; font-weight: bold\">4</span><span style=\"color: #374151; text-decoration-color: #374151\">, </span><span style=\"color: #374151; text-decoration-color: #374151\">strict</span><span style=\"color: #374151; text-decoration-color: #374151\">=</span><span style=\"color: #374151; text-decoration-color: #374151; font-style: italic\">False</span><span style=\"color: #374151; text-decoration-color: #374151\">, </span><span style=\"color: #374151; text-decoration-color: #374151\">async_mode</span><span style=\"color: #374151; text-decoration-color: #374151\">=</span><span style=\"color: #374151; text-decoration-color: #374151; font-style: italic\">True</span><span style=\"color: #374151; text-decoration-color: #374151; font-weight: bold\">)</span><span style=\"color: #374151; text-decoration-color: #374151\">...</span>\n",
              "</pre>\n"
            ]
          },
          "metadata": {}
        },
        {
          "output_type": "display_data",
          "data": {
            "text/plain": [
              "✨ You're running DeepEval's latest \u001b[38;2;106;0;255mContextual Relevancy Metric\u001b[0m! \u001b[1;38;2;55;65;81m(\u001b[0m\u001b[38;2;55;65;81musing gpt-\u001b[0m\u001b[1;38;2;55;65;81m4\u001b[0m\u001b[38;2;55;65;81m, \u001b[0m\u001b[38;2;55;65;81mstrict\u001b[0m\u001b[38;2;55;65;81m=\u001b[0m\u001b[3;38;2;55;65;81mFalse\u001b[0m\u001b[38;2;55;65;81m, \u001b[0m\u001b[38;2;55;65;81masync_mode\u001b[0m\u001b[38;2;55;65;81m=\u001b[0m\u001b[3;38;2;55;65;81mTrue\u001b[0m\u001b[1;38;2;55;65;81m)\u001b[0m\u001b[38;2;55;65;81m...\u001b[0m\n"
            ],
            "text/html": [
              "<pre style=\"white-space:pre;overflow-x:auto;line-height:normal;font-family:Menlo,'DejaVu Sans Mono',consolas,'Courier New',monospace\">✨ You're running DeepEval's latest <span style=\"color: #6a00ff; text-decoration-color: #6a00ff\">Contextual Relevancy Metric</span>! <span style=\"color: #374151; text-decoration-color: #374151; font-weight: bold\">(</span><span style=\"color: #374151; text-decoration-color: #374151\">using gpt-</span><span style=\"color: #374151; text-decoration-color: #374151; font-weight: bold\">4</span><span style=\"color: #374151; text-decoration-color: #374151\">, </span><span style=\"color: #374151; text-decoration-color: #374151\">strict</span><span style=\"color: #374151; text-decoration-color: #374151\">=</span><span style=\"color: #374151; text-decoration-color: #374151; font-style: italic\">False</span><span style=\"color: #374151; text-decoration-color: #374151\">, </span><span style=\"color: #374151; text-decoration-color: #374151\">async_mode</span><span style=\"color: #374151; text-decoration-color: #374151\">=</span><span style=\"color: #374151; text-decoration-color: #374151; font-style: italic\">True</span><span style=\"color: #374151; text-decoration-color: #374151; font-weight: bold\">)</span><span style=\"color: #374151; text-decoration-color: #374151\">...</span>\n",
              "</pre>\n"
            ]
          },
          "metadata": {}
        },
        {
          "output_type": "stream",
          "name": "stdout",
          "text": [
            "Event loop is already running. Applying nest_asyncio patch to allow async execution...\n"
          ]
        },
        {
          "output_type": "stream",
          "name": "stderr",
          "text": [
            "\rEvaluating 3 test case(s) in parallel: |          |  0% (0/3) [Time Taken: 00:00, ?test case/s]ERROR:root:OpenAI rate limit exceeded. Retrying: 1 time(s)...\n",
            "ERROR:root:OpenAI rate limit exceeded. Retrying: 1 time(s)...\n",
            "ERROR:root:OpenAI rate limit exceeded. Retrying: 1 time(s)...\n",
            "Evaluating 3 test case(s) in parallel: |███▎      | 33% (1/3) [Time Taken: 00:35, 35.79s/test case]ERROR:root:OpenAI rate limit exceeded. Retrying: 2 time(s)...\n",
            "ERROR:root:OpenAI rate limit exceeded. Retrying: 2 time(s)...\n",
            "ERROR:root:OpenAI rate limit exceeded. Retrying: 3 time(s)...\n",
            "Evaluating 3 test case(s) in parallel: |██████████|100% (3/3) [Time Taken: 02:18, 46.11s/test case]"
          ]
        },
        {
          "output_type": "stream",
          "name": "stdout",
          "text": [
            "\n",
            "======================================================================\n",
            "\n",
            "Metrics Summary\n",
            "\n",
            "  - ✅ Correctness (GEval) (score: 1.0, threshold: 0.5, strict: False, evaluation model: gpt-4o, reason: The actual output matches the expected output in terms of content and factual accuracy., error: None)\n",
            "  - ✅ Faithfulness (score: 1.0, threshold: 0.7, strict: False, evaluation model: gpt-4, reason: None, error: None)\n",
            "  - ❌ Contextual Relevancy (score: 0.875, threshold: 1.0, strict: False, evaluation model: gpt-4, reason: The score is 0.88 because although there were statements in the retrieval context that were irrelevant due to being about JP Morgan Chase, there were numerous relevant statements concerning various problems with Wells Fargo such as issues with 'Checking or savings account', 'Money transfer, virtual currency, or money service', and 'Vehicle loan or lease'., error: None)\n",
            "\n",
            "For test case:\n",
            "\n",
            "  - input: What are the top complaint categories for Wells Fargo?\n",
            "  - actual output: The top complaint categories for Wells Fargo include Checking account, General-purpose credit card or charge card, and Credit reporting.\n",
            "  - expected output: The top complaint categories for Wells Fargo include Checking account, General-purpose credit card or charge card and Credit reporting.\n",
            "  - context: None\n",
            "  - retrieval context: ['report, however Wells Fargo denied the application. I am writing to ask that the hard inquiry be removed from my XXXX report as Wells Fargo misrepresented its products and services.\",Company has responded to the consumer and the CFPB and chooses not to provide a public response,WELLS FARGO & COMPANY,NC,XXXXX,None,Consent provided,Web,09/02/23,Closed with explanation,Yes,N/A,7492403\\r\\n09/07/23,\"Money transfer, virtual currency, or money service\",Domestic (US) money transfer,Fraud or scam,None,i invested with a broker and sent money by wire transfer but the sccamer took my money i went to the bank to try to get help they did not do anything they told me was my problem,Company has responded to the consumer and the CFPB and chooses not to provide a public response,WELLS FARGO & COMPANY,NC,28405,None,Consent provided,Web,09/07/23,Closed with non-monetary relief,Yes,N/A,7512209\\r\\n05/31/24,Checking or savings account,Checking account,Problem caused by your funds being low,Overdrafts and overdraft fees,\"I have been a member of Wells Fargo since 1989 when it was XXXX. My account was overdrawn on mutliple occasions between 2000 - 2017 due to overdraft fees erroneously taken out of my account. I believe I may also be entitled to remediation due from the recent XXXX. In addition, I believe I was also the victim of redlining when I applied for a car loan and was denied despite having a good credit score and XXXX  XXXX in the bank. I was told a letter explaining the denial would be provided but I don\\'t recall ever receiving such a letter.\",Company has responded to the consumer and the CFPB and chooses not to provide a public response,WELLS FARGO & COMPANY,NC,27704,None,Consent provided,Web,05/31/24,Closed with explanation,Yes,N/A,9132761\\r\\n01/23/23,Vehicle loan or lease,Loan,Managing the loan or lease,Billing problem,An extra {$100.00} paid was applied to the interest of my loan instead of the principal. I\\'ve spoken with 5 different people and was not able to resolve it.,Company has responded to the consumer and the CFPB and chooses not to provide a public response,WELLS FARGO & COMPANY,NC,28027,Older American,Consent provided,Web,01/23/23,Closed with explanation,Yes,N/A,6473182\\r\\n01/21/23,Checking or savings account,Checking account,Problem with a lender or other company charging your account,Money was taken from your account on the wrong day or for the wrong amount,I was a customer of Wells Fargo for 15 years and was charged several overdraft fees and also had my deposits frozen which caused the overdraft fees,Company has responded to the consumer and the CFPB and chooses not to provide a public response,WELLS FARGO & COMPANY,NC,27403,None,Consent provided,Web,01/21/23,Closed with explanation,Yes,N/A,6469188\\r\\n08/31/23,Checking or savings account,Checking account,Managing an account,Problem accessing account,\"I with explanation,Yes,N/A,6555832\\r\\n03/31/23,Checking or savings account,Checking account,Managing an account,Deposits and withdrawals,\"Froze my account when large deposits where made making it unavailable for 7-10 days. \\nMultiple times! \\n\\nEnded up closing my checking account 2 months ago after Ive been a 15 year member of wells Fargo and kept my saving for any charges to be paid in the event I didnt change over to my new back.\",Company has responded to the consumer and the CFPB and chooses not to provide a public response,WELLS FARGO & COMPANY,NC,27320,None,Consent provided,Web,03/31/23,Closed with explanation,Yes,N/A,6779452\\r\\n01/20/23,Checking or savings account,Checking account,Managing an account,Funds not handled or disbursed as instructed,6 accounts were opened under my name by one of your managers in the PA locations. ( XXXX XXXX XXXX  ) Done without my knowledge..district manager involved..district manager took care of issues but I was never credited all the fees I had to pay out of pocket in order to rectify dispute! Promised I would be reimbursed.,Company has responded to the consumer and the CFPB and chooses not to provide a public response,WELLS FARGO & COMPANY,NC,27262,None,Consent provided,Web,01/20/23,Closed with monetary relief,Yes,N/A,6461476\\r\\n02/02/23,Checking or savings account,Checking account,Problem with a lender or other company charging your account,Money was taken from your account on the wrong day or for the wrong amount,I was with Wellsfargo since XXXX and they charge me so much on bank fees and overdraft fees even though I made cash deposit first and I called the bank and they said they cant give my money back because they said cash deposit has a holding time. Im sick and tired about their lies so I want to leave.,Company has responded to the consumer and the CFPB and chooses not to provide a public response,WELLS FARGO & COMPANY,NC,28277,None,Consent provided,Web,02/02/23,Closed with explanation,Yes,N/A,6514469\\r\\n05/25/24,Credit card,General-purpose credit card or charge card,\"Other features, terms, or problems\",Problem with rewards from credit card,\"JP Morgan Chase XXXX XXXX ending in XXXX total points of XXXX for statement closing date XX/XX/XXXX - XX/XX/XXXX was not transferred to my XXXX account number again. \\n\\nPlease see CFPB complaint XXXX\",None,JPMORGAN CHASE & CO.,NC,XXXXX,None,Consent provided,Web,05/25/24,Closed with non-monetary relief,Yes,N/A,9098946\\r\\n03/31/23,Checking or savings account,Other banking product or service,Problem caused by your funds being low,Overdrafts and overdraft fees,\"XXXX XXXX XXXX XXXX, XXXX XXXX XXXX XXXX RI. Ss # XXXX. Lots of money stolen from me my whole life along with checks, trust, inheritance, properties ( deeds ) freedom and dignity. At this point Im barely able to stay feed and alive help and or retrieve the funds that was depleted from me.\",None,JPMORGAN CHASE & CO.,NC,28105,None,Consent provided,Web,09/11/24,Closed with explanation,Yes,N/A,10085325\\r\\n09/11/24,Credit card,General-purpose credit card or charge card,\"Other features, terms, or problems\",Add-on products and services,\"My name is XXXX XXXX and I have a complaint about Wells Fargo Bank, specially my credit card account. I attempted to use my credit card, and it was denied. When I called Wells Fargo the representative stated I was sent a letter requiring I send my last years tax return to continue using the card. I asked multiple representatives why I needed to supply my tax return, and no one could give me a valid answer, including the personnel at the local branch. \\n\\nI pay all my bills on time and have an excellent credit rating. To be humiliated for a nonexistent regulation is belittling to say the least. The bank can make up their own rules and demean customers should be illegal. Nothing with terms and conditions when opening this account required that I give my tax return and it seems they are doing something shifty. \\nAlso, how can they suspend my account if I dont provide them with my tax return? It seems like a scam to me. \\n\\n\\nSincerely Frustrated. \\n\\nXXXX XXXX XXXX XXXX XXXX XXXX XXXX XXXX XXXX XXXX NC XXXX PH : XXXX Email : XXXX Card # XXXX\",Company has responded to the consumer and the CFPB and chooses not to provide a public response,WELLS FARGO & COMPANY,NC,280XX,\"Older American, Servicemember\",Consent provided,Web,09/11/24,Closed with explanation,Yes,N/A,10087102\\r\\n10/01/24,Checking or savings account,Checking account,Managing an account,Banking errors,\"Wells Fargo has discriminated against me on multiple occasions. It was profoundly disheartening that every claim I submitted was dismissed without any investigation or consideration. Despite providing thorough documentation and clear evidence to support my requests, I was met with indifference and skepticism rooted in biases rather than facts. Each interaction reminded me that my concerns were overlooked as if my identity alone tainted my credibility. This pattern of denial not only undermined my trust in the institution but also highlighted a troubling disregard for equitable treatment, leaving me feeling marginalized and frustrated in a space that should have been supportive and fair. The last claim filed on XXXX wasn\\'t even given an actual investigation nor did anyone from this company reach out to get more details, proof, etc. EVERY SINGLE CLAIM IS DENIED EVEN WITH PROOF!!!! Very racially motivated.\",Company has responded to the consumer and the CFPB and chooses not to provide a public response,WELLS FARGO & COMPANY,NC,275XX,None,Consent provided,Web,10/01/24,Closed with explanation,Yes,N/A,10308285\\r\\n01/23/23,Checking or savings account,CD (Certificate of Deposit),Managing an account,Deposits or withdrawals,\"My name is XXXX XXXX my address is XXXX XXXX XXXX XXXX, XXXX, NC Phone number XXXX . If they did this to half of the customers who had accounts purchased from the first bank, the new bank is making XXXX XXXX XXXX in late fees alone.\",Company has responded to the consumer and the CFPB and chooses not to provide a public response,WELLS FARGO & COMPANY,NC,283XX,None,Consent provided,Web,08/05/24,Closed with monetary relief,Yes,N/A,9715132\\r\\n08/15/24,Debt collection,Payday loan debt,Took or threatened to take negative or legal action,Collected or attempted to collect exempt funds,\"I had a personal loan from Wells Fargo I was behind and they took away all my savings without notice and Im still undergoing financial hardships I want my money back plus interest and emotional distress they caused me by then my son was in high school about to go to college and wellsfargo action brought me marital problems and family dispute because I was out of money in could not provide effectively as a Husband and a father, because they charged my account the cost of my credit went up I am now paying too much for my mortgage which I have with them Im demanding {$250000.00} for compensation\",Company has responded to the consumer and the CFPB and chooses not to provide a public response,WELLS FARGO & COMPANY,NC,27263,None,Consent provided,Web,08/15/24,Closed with explanation,Yes,N/A,9816651\\r\\n01/20/23,Checking or savings account,Checking account,Problem with a lender or other company charging your account,Transaction was not authorized,\"I was a customer of Wells Fargo from approx XXXX thru XXXX. \\nI was overcharged for {$35.00} fees that ran into $ XXXX of dollars. \\n\\nIn XXXX approx I lost my cell phone with all my banking info on it and someone used it to the point of putting me in the negative $ XXXX {$2500.00}. I talked to the bank & filed a report and they would not help me in anyway. I wasn\\'t able to pay bills for over a month or eat etc. \\n\\nI feel very strongly that Wells Fargo took advantage of me & other customers. \\n\\nI Pray there is some way you can help me!\",Company has responded to the consumer and the CFPB and chooses not to provide a public response,WELLS FARGO & COMPANY,NC,285XX,None,Consent provided,Web,01/20/23,Closed with explanation,Yes,N/A,6461627\\r\\n04/02/24,Checking or savings account,Checking account,Managing an account,Deposits and withdrawals,\"Their customer abuse continues this time instead of transfers or pending debits or withdrawals. Its pending deposits which doesnt make sense. I understand it might take a day or two for yall highly incompetent company to take money from a transaction regardless, whether if the merchant has received the money and your double charging or not, instead the issue is Im depositing money into an account with a positive balance, and for whatever reason during business hours you guys are failing to update my balance. This is highly upsetting [\\n  {\\n    \"class\": \"CreditComplaints\",\\n    \"properties\": {\\n      \"question\": \"What are the top complaint categories for Wells Fargo?\",\\n      \"answer\": \"The top complaint categories for Wells Fargo include Checking account, General-purpose credit card or charge card and Credit reporting.\"\\n    }\\n  },\\n  {\\n    \"class\": \"CreditComplaints\",\\n    \"properties\": {\\n      \"question\": \"What percentage of complaints about Bank of America were resolved?\",\\n      \"answer\": \"Approximately 76% of complaints about Bank of America were resolved.\"\\n    }\\n  },\\n  {\\n    \"class\": \"CreditComplaints\",\\n    \"properties\": {\\n      \"question\": \"How many complaints were filed in June 2024 for Wells Fargo?\",\\n      \"answer\": \"There were 64 complaints filed in June 2024 for Wells Fargo.\"\\n    }\\n  }\\n]']\n",
            "\n",
            "======================================================================\n",
            "\n",
            "Metrics Summary\n",
            "\n",
            "  - ❌ Correctness (GEval) (score: 0.004420505942847809, threshold: 0.5, strict: False, evaluation model: gpt-4o, reason: The actual output states three complaints, which is factually incorrect compared to the expected output of 64 complaints., error: None)\n",
            "  - ✅ Faithfulness (score: 1.0, threshold: 0.7, strict: False, evaluation model: gpt-4, reason: None, error: None)\n",
            "  - ❌ Contextual Relevancy (score: 0.25, threshold: 1.0, strict: False, evaluation model: gpt-4, reason: The score is 0.25 because while the retrieval context does involve complaints related to Wells Fargo, none of the statements specifically mention complaints filed in June 2024. The context largely discusses individual experiences and issues unrelated to the specific timeframe in question., error: None)\n",
            "\n",
            "For test case:\n",
            "\n",
            "  - input: How many complaints were filed in June 2024 for Wells Fargo?\n",
            "  - actual output: There were three complaints filed in June 2024 for Wells Fargo.\n",
            "  - expected output: There were 64 complaints filed in June 2024 for Wells Fargo.\n",
            "  - context: None\n",
            "  - retrieval context: ['NC,27526,None,Consent provided,Web,11/03/23,Closed with explanation,Yes,N/A,7793256\\r\\n03/03/23,Mortgage,Home equity loan or line of credit (HELOC),Trouble during payment process,None,\"Roughly 15 years ago I acquired an equity line with Wells Fargo. The debt was supposed to be for no more than 15 years with 8 % interest. In XXXX I asked for help to reduce the interest but unfortunately they denied my request. In XXXX I called again because on the mobile application for Wells Fargo was not accepting my payments. When I had called they said that there was no problem at all and to keep paying as usual. They told me that at the end of the XXXX mark they would send me an official letter stating that they would resolve the changes. in XXXX, I called again reducing the interest or at least refinancing and again the denied my request. The lady I spoke with that day asked me Why, when I was about to finish in XXXX of XXXX. However, in XXXX I believe I received a letter stating that my finishing in XXXX was incorrect but it was actually going to be in XXXX of XXXX. In XXXX of XXXX I wanted to may a payment but the app would not accept it. In XXXX I received a bill for 1 CENT. So my son tried to pay it on the app and once again would not take. He called to report it and they said they would look into it. Later that month I received a phone call stating that I still owed {$38000.00}. Even though I made sure to make all payments, even though some were possibly 3 days late I still made sure to pay extra. We called and they said they would look into it and we never heard anything from them again. I have the name and numbers from some of the associates I spoke with that told me that I would be finished in XXXX. \\nMost of my payments have been through mobile pay, after we left XXXX XXXX XXXX and moved to Wells Fargo.\",Company has responded to the consumer and the CFPB and chooses not to provide a public response,WELLS FARGO & COMPANY,NC,28658,None,Consent provided,Web,03/03/23,Closed with explanation,Yes,N/A,6642443\\r\\n03/17/23,\"Money transfer, virtual currency, or money service\",Domestic (US) money transfer,Fraud or scam,None,\"I am refiling a complaint. My original complaint was closed. \\nReference XXXX I had {$50000.00} dollars stolen from my business account via XXXX wire transfers. Here is a brief summary : XX/XX/XXXX I received a call from XXXX Wells Fargo about \"\" fraudulent \\'\\' activity on my account. The person identified them self as XXXX XXXX employee number XXXX. XXXX \"\" scammer \\'\\' reviewed about 15 transactions at various locations/vendors in Texas. I confirmed I did not have a transactions matching the described activity. XXXX then confirmed a recent law. 15 U.S. Code 1681s2 ( A ) ( 1 ) A states \"\" A person shall not furnish any information relating to a consumer to any consumer reporting agency if the person knows or has reasonable cause to believe that the information is inaccurate. 15 U.S. Code 1681e states \\'\\' Every consumer reporting agency shall maintain reasonable procedures designed to avoid violations of section 1681c of this title and to limit the furnishing of consumer reports to the purposes listed under section 1681b of this title.\\n\\nWELLS FARGO WELLS FARGO BANK WELLS FARGO IDV ONLY WELLS FARGO are not maintaining reasonable procedures. Also 12 CFR 1016.7 states that \"\" A consumer may exercise the right to opt out at any time.\\n\\n\"\" I am opting out of your reporting services.\",Company has responded to the consumer and the CFPB and chooses not to provide a public response,WELLS FARGO & COMPANY,NC,27610,None,Consent provided,Web,03/04/24,Closed with non-monetary relief,Yes,N/A,8465775\\r\\n06/13/24,Credit card,General-purpose credit card or charge card,\"Other features, terms, or problems\",Other problem,\"ADVERSE CLAIM ON XXXX I sent my social security number ( security interest ) and was not granted collateral XXXX XXXX XXXX Indentured agreement states the security interest in the collateral is granted to secure the note Their definition of collateral - all accounts, instruments, documents, application The note is the promissory note The application should be turned into a promissory note which means the account with the credit automatically\",None,AMERICAN EXPRESS COMPANY,NC,28562,None,Consent provided,Web,06/13/24,Closed with explanation,Yes,N/A,9247903\\r\\n06/04/24,\"Money transfer, virtual currency, or money service\",Domestic (US) money transfer,Other transaction problem,None,\"My Wells Fargo debit number card number was obtained through fraudulent activity via online on XX/XX/year>. Several transactions were made via XXXX XXXX after persons unknown made a profile with XXXX XXXX using my debit card number. The first transaction was for {$1.00}, the second for {$420.00} which Wells Fargo let go through. After that the perpetrators attempted several transactions in the amount of {$560.00} at that time I received a fraud alert text message from Wells Fargo asking if I was making this transaction. I replied No and got a response that my debit card had been blocked for my protection. I called Wells Fargo and advised that my card had been hacked and all these transactions were fraudulent. A claim was opened with Wells Fargo on XX/XX/year> which took XXXX days and after that time I was told that no error occurred with these transactions. I asked for the claim to be escalated because I did not make these money transfers that was showing XXXX, and I was in South Carolina at the time. I was told by a Wells Fargo representative that the money transfers were made via a cell phone and because Wells Fargo could not track down who made the transactions, they transaction.\",None,WELLS FARGO & COMPANY,NC,28262,None,Consent provided,Web,06/04/24,In progress,Yes,N/A,9166506\\r\\n05/11/23,\"Credit reporting, credit repair services, or other personal consumer reports\",Credit reporting,Improper use of your report,Credit inquiries on your report that you don\\'t recognize,\"I dont regonize this inquiry. \\n\\nAMEX Date of inquiry : XX/XX/XXXX  XXXX\",None,AMERICAN EXPRESS COMPANY,NC,27893,None,Consent provided,Web,05/11/23,Closed with explanation,Yes,N/A,6959028\\r\\n05/30/24,Checking or savings account,Other banking product or service,Managing an account,Deposits and withdrawals,\". On XX/XX/year> a person called my phone pretending to be Wells Fargo fraud prevention. The caller ID showed Wells Fargo. They stated a wire transfer had been initiated and I needed to log on to my app and request to reclaim the funds. They instructed me what to enter and asked for me to confirm a code. This happened 3 times over XXXX business days and I was scammed out of over XXXX. \\nOn XX/XX/year> there were XXXX in person cash withdrawals made in branch in XXXX Va and XXXX in XXXX XXXX Va. totaling XXXX. I received a call from the same person who I believed was Wells Fargo telling me my debit card had been compromised and a new one was on the way. I went into the local Wells Fargo Branch in XXXX N.C. to ask them to destroy my debit card and let them know I had been contacted and the person I spoke with said a new card was on the way. The employee took my card and disposed of it. They never asked me for any information or offered to verify what I was saying. They could have easily prevented the last wire transfer. \\nI have banked with Wells Fargo almost 15 years and have NEVER done a wire transfer. It is suspicious I did XXXX in a row and I believe this should have been flagged on their end, especially since most employees at Wells Fargo we have spoken with are aware of this wire fraud. Wells Fargo is targeted because of how easy it is to commit online wire transfers. \\nWhen trying to report this to the Federal Trade Commission, I am asked for an account number and address for receiving bank. I have tried numerous times to get this information from Wells Fargo but they tell me they do not have access to it. I finally spoke with a representative today who said she can see it but cant tell me where it went because they might be liable if something happens. \\nThis is unacceptable and Wells Fargo is enabling fraud and protecting the criminals instead of protecting their customers\",Company has responded to the consumer and the CFPB and chooses not to provide a public response,WELLS FARGO & COMPANY,NC,27012,None,Consent provided,Web,05/30/24,Closed with monetary relief,Yes,N/A,9136390\\r\\n08/13/24,Checking or savings account, report, however Wells Fargo denied the application. I am writing to ask that the hard inquiry be removed from my XXXX report as Wells Fargo misrepresented its products and services.\",Company has responded to the consumer and the CFPB and chooses not to provide a public response,WELLS FARGO & COMPANY,NC,XXXXX,None,Consent provided,Web,09/02/23,Closed with explanation,Yes,N/A,7492403\\r\\n09/07/23,\"Money transfer, virtual currency, or money service\",Domestic (US) money transfer,Fraud or scam,None,i invested with a broker and sent money by wire transfer but the sccamer took my money i went to the bank to try to get help they did not do anything they told me was my problem,Company has responded to the consumer and the CFPB and chooses not to provide a public response,WELLS FARGO & COMPANY,NC,28405,None,Consent provided,Web,09/07/23,Closed with non-monetary relief,Yes,N/A,7512209\\r\\n05/31/24,Checking or savings account,Checking account,Problem caused by your funds being low,Overdrafts and overdraft fees,\"I have been a member of Wells Fargo since 1989 when it was XXXX. My account was overdrawn on mutliple occasions between 2000 - 2017 due to overdraft fees erroneously taken out of my account. I believe I may also be entitled to remediation due from the recent XXXX. In addition, I believe I was also the victim of redlining when I applied for a car loan and was denied despite having a good credit score and XXXX  XXXX in the bank. I was told a letter explaining the denial would be provided but I don\\'t recall ever receiving such a letter.\",Company has responded to the consumer and the CFPB and chooses not to provide a public response,WELLS FARGO & COMPANY,NC,27704,None,Consent provided,Web,05/31/24,Closed with explanation,Yes,N/A,9132761\\r\\n01/23/23,Vehicle loan or lease,Loan,Managing the loan or lease,Billing problem,An extra {$100.00} paid was applied to the interest of my loan instead of the principal. I\\'ve spoken with 5 different people and was not able to resolve it.,Company has responded to the consumer and the CFPB and chooses not to provide a public response,WELLS FARGO & COMPANY,NC,28027,Older American,Consent provided,Web,01/23/23,Closed with explanation,Yes,N/A,6473182\\r\\n01/21/23,Checking or savings account,Checking account,Problem with a lender or other company charging your account,Money was taken from your account on the wrong day or for the wrong amount,I was a customer of Wells Fargo for 15 years and was charged several overdraft fees and also had my deposits frozen which caused the overdraft fees,Company has responded to the consumer and the CFPB and chooses not to provide a public response,WELLS FARGO & COMPANY,NC,27403,None,Consent provided,Web,01/21/23,Closed with explanation,Yes,N/A,6469188\\r\\n08/31/23,Checking or savings account,Checking account,Managing an account,Problem accessing account,\"I years old,None,JPMORGAN CHASE & CO.,NC,28150,None,Consent provided,Web,04/23/23,Closed with non-monetary relief,Yes,N/A,6874811\\r\\n07/23/23,Vehicle loan or lease,Loan,Struggling to pay your loan,Loan balance remaining after the vehicle is repossessed and sold,Wells Fargo unlawful repossessed my vehicle from private gated community. I reached out to Wells Fargo in order to straighten the loan and laws. They never responded in a timely manner and continue to harass me. I had to pay to XXXX to get my car out the impound. They illegally repossessed my vehicle. I purchased the car in 2020 and was not familiar with how Wells Fargo handled the contract. I signed under duress. I sent Wells Fargo a right of rescission letter amongst others. Wells Fargo has reported to agencies that I have late payments and it is tarnishing my reputation.,Company has responded to the consumer and the CFPB and chooses not to provide a public response,WELLS FARGO & COMPANY,NC,272XX,None,Consent provided,Web,07/23/23,Closed with explanation,Yes,N/A,7289731\\r\\n01/17/23,Checking or savings account,Checking account,Problem caused by your funds being low,Non-sufficient funds and associated fees,Wells Fargo opened 10 + accounts in my name due to faulty sales tactics. I experienced numerous overdraft fees in these accounts though I had money in my accounts as a whole. I was never notified. They have frozen all of the statements from my accounts in 2013 for quite some time now. I have never seen all of my own financial documents over the years.,Company has responded to the consumer and the CFPB and chooses not to provide a public response,WELLS FARGO & COMPANY,NC,XXXXX,None,Consent provided,Web,01/17/23,Closed with explanation,Yes,N/A,6448547\\r\\n02/09/23,\"Credit reporting, credit repair services, or other personal consumer reports\",Credit reporting,Improper use of your report,Reporting company used your report improperly,15 usc privacy 1681 602 state i have a right to privacy. Also 15 usc 1681 604 it also state a consumer reporting agenay can not furnish a account without my written statement .professional finan XXXX,Company believes complaint caused principally by actions of third party outside the control or direction of the company,\"Professional Finance Company, Inc.\",NC,28212,None,Consent provided,Web,03/09/23,Closed with non-monetary relief,Yes,N/A,6553559\\r\\n02/02/23,Checking or savings account,Savings account,Managing an account,Problem making or receiving payments,\"I have had MULITPLE problems with Wells Fargo. I have been a customer since XXXX. The most recent problem began at the beginning of XXXX, XXXX. I had opened a new business checking account with another online company. I linked my Wells Fargo savings account with this online business account at another bank. Test deposits were confirmed by Wells Fargo. When I tried to transfer money out of WF into the new online account, I kept getting an error message ( transfer was']\n",
            "\n",
            "======================================================================\n",
            "\n",
            "Metrics Summary\n",
            "\n",
            "  - ❌ Correctness (GEval) (score: 0.19332820290165745, threshold: 0.5, strict: False, evaluation model: gpt-4o, reason: The actual output states 100% of complaints were resolved, which contradicts the expected output of 76%., error: None)\n",
            "  - ❌ Faithfulness (score: 0.5, threshold: 0.7, strict: False, evaluation model: gpt-4, reason: None, error: None)\n",
            "  - ❌ Contextual Relevancy (score: 0.7, threshold: 1.0, strict: False, evaluation model: gpt-4, reason: The score is 0.70 because while the retrieval context provides instances of complaints against Bank of America and their outcomes, it does not provide a clear percentage of resolved complaints as asked in the query. Irrelevant information about 'barclay' and 'fees of {$25.00} a month for their 'advantage with tiered interest checking' account' also contributed to the lower score., error: None)\n",
            "\n",
            "For test case:\n",
            "\n",
            "  - input: What percentage of complaints about Bank of America were resolved?\n",
            "  - actual output: Based on the provided context, all complaints about Bank of America were marked as \"Closed with explanation\" or \"Closed with monetary relief,\" indicating that 100% of the complaints were resolved.\n",
            "  - expected output: Approximately 76% of complaints about Bank of America were resolved.\n",
            "  - context: None\n",
            "  - retrieval context: ['to provide a public response,\"BANK OF AMERICA, NATIONAL ASSOCIATION\",NC,286XX,None,Consent provided,Web,05/19/23,Closed with explanation,Yes,N/A,6985781\\r\\n01/10/23,Credit card or prepaid card,General-purpose credit card or charge card,Getting a credit card,Card opened as result of identity theft or fraud,\"I attempted to resolve this issue directly with Bank of America they were reluctant to do so. I explained to them the circumstances regarding the account and offered to provide them with a copy of an identity theft report to which they declined and spoke to me in a very rude and condescending tone. I have filed MULTIPLE disputes with the 3 credit bureaus regarding this account in particular. They do not due their due diligence in their reinvestigation process nor does bank of america. XXXX has already removed this account but the other credit bureaus, XXXX and experian have not. I filed a complaint with the CFPB already towards bank of america and instead of reaching a resolution I was contacted by someone named XXXX XXXX XXXX XXXX XXXX resolution specialist. His reasoning for contacting me was to verify that I did indeed engage in a complaint against them. I confirmed that via email for him and was happy to do so. However, this contact was unwanted, all I want is for my issue to be resolved. After having representees of their company talk down to me in the past I want no further contact only a resolution to the issue at hand.\",Company has responded to the consumer and the CFPB and chooses not to provide a public response,\"BANK OF AMERICA, NATIONAL ASSOCIATION\",NC,28027,None,Consent provided,Web,01/10/23,Closed with explanation,Yes,N/A,6421440\\r\\n01/26/24,Credit reporting or other personal consumer reports,Credit reporting,Problem with a company\\'s investigation into an existing problem,Problem with personal statement of dispute,\"The credit card company is barclay and their website is https : //www.barclaycardus.com/ The problem is they disengaged the automatic pay feature on my account without notifying me that it was disengaged. When my payment was past due the lowered my available credit which caused my credit score to drop XXXX points. \\n\\nI called the company to advise them they disengaged my automatic pay. This conversation took place on or around XX/XX/year> I would like to have have the company reinstate my previous credit line to restore my credit to the same score it was prior to them lowering my credit limit.\",Company has responded to the consumer and the CFPB and chooses not to provide a public response,BARCLAYS BANK DELAWARE,NC,275XX,None,Consent provided,Web,01/26/24,Closed with explanation,Yes,N/A,8230501\\r\\n07/12/23,Checking or savings account,Checking account,Managing an account,Deposits and withdrawals,\"Hello, I made an in-person deposit in form of a United States Treasury check at my local Bank of America branch on XX/XX/XXXX and was assured the funds would be available the next business day. The teller swiped the check through their for that card. This was on XXXX, XXXX of 2024 on which I signed up. I then called in a month later, to see the status of the promotional offer. The rep on the phone stated that there was only the XXXX $ for XXXX $ spend which they saw in their systems, and when I went into the branch they told me the same. This is on XXXX which I went in.\",None,TD BANK US HOLDING COMPANY,NC,28277,None,Consent provided,Web,08/02/24,Closed with monetary relief,Yes,N/A,9685985\\r\\n06/07/24,Vehicle loan or lease,Loan,Repossession,Voluntary repossession,\"Dear Sir/Madam, I am writing to formally lodge a complaint against Bank of America regarding their recent actions, which I believe to be retaliatory and detrimental to my credit restoration efforts. Below, I have outlined the events and concerns in detail : 1. Submission of Complaint : On XX/XX/2024, I submitted a formal complaint to the Consumer Financial Protection Bureau ( CFPB ) regarding issues I have been facing with Bank of America \\'s practices related to my credit. \\n2. Bank of Americas Response : On XX/XX/2024, Bank of America contacted me to acknowledge that they had received the complaint. \\n3. Unauthorized Withdrawal : On XX/XX/2024, Bank of America withdrew {$1100.00} from my bank account without my knowledge or consent. This unauthorized withdrawal appears to be in direct retaliation to the complaint I submitted. \\n\\nThis unauthorized action by Bank of America has had several significant impacts : Financial Disruption : The unexpected withdrawal of {$1100.00} has jeopardized other scheduled bank drafts, causing potential overdrafts and additional financial stress. \\nLack of Communication : Bank of America did not inform me of their intention to withdraw these funds, exacerbating the situation and demonstrating a lack of transparency and communication. \\nRetaliatory Nature : The timing and nature of this withdrawal suggest that it was retaliatory, stemming from my complaint to the CFPB. This raises serious concerns about the bank \\'s commitment to ethical practices and accountability. \\n\\nAdditionally, Bank of America has consistently failed to take responsibility for the inaccurate information reported by credit bureaus. Their refusal to address these inaccuracies continues to harm my credit standing and overall financial health. \\nI urge the CFPB to investigate this matter thoroughly. It is crucial to ensure that financial institutions adhere to fair practices and do not engage in retaliatory actions against consumers who exercise their right to submit complaints. \\n\\nPlease find attached all relevant documents, including a copy of my initial complaint, Bank of America \\'s response, and evidence of the unauthorized withdrawal from my account. \\n\\nThank you for your attention to this serious matter. I look forward to a prompt and just resolution.\",Company has responded to the consumer and the CFPB and chooses not to provide a public response,\"BANK OF AMERICA, NATIONAL ASSOCIATION\",NC,27513,Servicemember,Consent provided,Web,06/07/24,Closed with explanation, but were told they have no access to our credit card account and could not help us. This whole 18-month long ordeal is a scandal. BoA, from time to time, charges our checking account twice the balance of our BoA credit card.\",Company has responded to the consumer and the CFPB and chooses not to provide a public response,\"BANK OF AMERICA, NATIONAL ASSOCIATION\",NC,28270,None,Consent provided,Web,06/04/23,Closed with monetary relief,Yes,N/A,7065902\\r\\n06/27/24,Checking or savings account,Checking account,Problem with a lender or other company charging your account,Can\\'t stop withdrawals from your account,I\\'m having issues with Bank of America. I have about {$30000.00} dollars missing from my accounts. A couple of people at local branches lost their job or were arrested and not sure what to do. Every time I went into a branch they would run me in circles. I need help or direction in getting Bank of America to respond or filing a complaint in a formal way. .Thanks,Company has responded to the consumer and the CFPB and chooses not to provide a public response,\"BANK OF AMERICA, NATIONAL ASSOCIATION\",NC,28146,None,Consent provided,Web,06/27/24,Closed with explanation,Yes,N/A,9361197\\r\\n02/26/24,Credit reporting or other personal consumer reports,Credit reporting,Incorrect information on your report,Account information incorrect,\"On XX/XX/XXXX I called in to Barclays to pay off my credit card $ XXXX. I explained to the agent that I would like to have the account paid in full and for the account to be closed and for that information to be relayed to XXXX, XXXX XXXX, and XXXX. The rep placed me on hold and came back with the payoff. I gave her my financial information and she thanked me for my business and explained that she would handle every thing on her end to close the account and to notify the credit bureaus. \\n\\n3 weeks go by and I received notice that the account was past due. I called Barclays to find out why and was advised that the rep from XX/XX/XXXX may not have given the correct payoff and that they recognized that it was their error and that they would be reversing the last amount on the account and as a precaution contacting the bureaus to advise that I was not past due and the account was paid in full and in good standing. \\n\\nAnother few weeks go by and I received another notice of delinquency. The previous rep did not do anything that they said they were going to do. So the new rep got a manager on the phone and she apologized and said that she would have to escalate it to a different department and I would be getting a call back in around 2 weeks. I never received a call and a few weeks later received another collections notice. \\n\\nI called to Barclays again and a rep explained to me that he saw the notes in the system that the account EFT is covered by the Electronic Fund Transfer Act ( EFTA ) and Regulation E. Additionally, this section makes clear that P2P payments that use a consumers debit card to transfer funds, credit-push P2P payments that transfer funds out of a consumers deposit, prepaid or mobile account, and P2P debit card pass-through payments are all considered EFTs which are subject to Regulation Es requirements. \\n\\nI can provide you copies of the contracts and copies of the XXXX XXXX transactions if needed. I have been a customer of Bank of America for XXXX  years and have never filed a dispute. Everything seemed legitimate based on the contracts, references etc. I just want my money back and based on Regulation E, I believe Bank of America should pay these claims. I have absolutely no way to contact the merchant, since they were fraudsters! Thank you.\",Company has responded to the consumer and the CFPB and chooses not to provide a public response,\"BANK OF AMERICA, NATIONAL ASSOCIATION\",NC,27614,None,Consent provided,Web,09/26/24,Closed with explanation,Yes,N/A,10256821\\r\\n06/05/24,Credit reporting or other personal consumer reports,Credit reporting,Problem with a company\\'s investigation into an existing problem,Difficulty submitting a dispute or getting information about a dispute over the phone,\"In XXXXXXXX XXXX XXXX XXXX Bank of America is showing a 30x late on my CC. I not only had automatic payment set up at this time but it shows refunds of any and all late payments and interest charges. I was told by Bank of America its inaccurate and to dispute with all XXXX credit bureau agencies and they would put notes in the system and it would be resolved. Unfortunately it wasnt resolved. Now Im fighting with Bank of America directly to resolve and it is still showing on my report. Its affecting my credit, its inaccurate and I want it resolved ASAP. \\n\\nIn the last year the service has been awful and I have been with them for 20 years!! Spending hundreds and thousands of dollars with them and always paying my balances in full every single month. They accidentally took duplicate CC payments from me and it took them 2 months to give the money back. They take hours to answer calls now and after 20 years- this is so disappointing.\",Company has responded to the consumer and the CFPB and chooses not to provide a public response,\"BANK OF AMERICA, NATIONAL ASSOCIATION\",NC,28210,None,Consent provided,Web,06/05/24,Closed with explanation,Yes,N/A,9180568\\r\\n09/05/23,Checking or savings account,Checking account,Problem caused by your funds being low,Non-sufficient funds and associated fees,\"Back in XXXX of this year, Bank of America began charging me fees of {$25.00} a month for my \"\" advantage with tiered interest checking \\'\\' account. I have had this account since XXXX and never paid fees, it existed prior to their preferred rewards program. When I called to resolve this issue, the representative said she would be communication to me before sending a reverse wire. So I was returned {$45.00} less than I attempted to send out.,Company has responded to the consumer and the CFPB and chooses not to provide a public response,\"BANK OF AMERICA, NATIONAL ASSOCIATION\",NC,28270,None,Consent provided,Web,07/24/24,Closed with explanation,Yes,N/A,9605482\\r\\n06/07/24,Vehicle loan or lease,Loan,Repossession,Voluntary repossession,\"Dear Sir/Madam, I am writing to formally lodge a complaint against Bank of America regarding their recent actions, which I believe to be retaliatory and detrimental to my credit restoration efforts. Below, I have outlined the events and concerns in detail : XXXX. Submission of Complaint : On XX/XX/year>, I submitted a formal complaint to the Consumer Financial Protection Bureau ( CFPB ) regarding issues I have been facing with Bank of America \\'s practices related to my credit. \\nXXXX. Bank of Americas Response : On XX/XX/year>, Bank of America contacted me to acknowledge that they had received the complaint. \\nXXXX. Unauthorized Withdrawal : On XX/XX/year>, Bank of America withdrew {$1100.00} from my bank account without my knowledge or consent. This unauthorized withdrawal appears to be in direct retaliation to the complaint I submitted. \\nThis unauthorized action by Bank of America has had several significant impacts : Financial Disruption : The unexpected withdrawal of {$1100.00} has jeopardized other scheduled bank drafts, causing potential overdrafts and additional financial stress. \\nLack of Communication : Bank of America did not inform me of their intention to withdraw these funds, exacerbating the situation and demonstrating a lack of transparency and communication. \\nRetaliatory Nature : The timing and nature of this withdrawal suggest that it was retaliatory, stemming from my complaint to the CFPB. This raises serious concerns about the bank \\'s commitment to ethical practices and accountability. \\nAdditionally, Bank of America has consistently failed to take responsibility for the inaccurate information reported by credit bureaus. Their refusal to address these inaccuracies continues to harm my credit standing and overall financial health. \\nI urge the CFPB to investigate this matter thoroughly. It is crucial to ensure that financial institutions adhere to fair practices and do not engage in retaliatory actions against consumers who exercise their right to submit complaints. \\nPlease find attached all relevant documents, including a copy of my initial complaint, Bank of America \\'s response, and evidence of the unauthorized withdrawal from my account. \\nThank you for your attention to this serious matter. I look forward to a prompt and just resolution.\",Company has responded to the consumer and the CFPB and chooses not to provide a public response,\"BANK OF AMERICA, NATIONAL ASSOCIATION\",NC,27513,Servicemember,Consent provided,Web,06/07/24,Closed with explanation,Yes,N/A,9194549\\r\\n09/11/24,Vehicle loan or lease,Loan,Problems at the end of the loan or lease,Problem with paying off the loan,\"I have tried on their app while']\n",
            "\n",
            "======================================================================\n",
            "\n",
            "Overall Metric Pass Rates\n",
            "\n",
            "Correctness (GEval): 33.33% pass rate\n",
            "Faithfulness: 66.67% pass rate\n",
            "Contextual Relevancy: 0.00% pass rate\n",
            "\n",
            "======================================================================\n",
            "\n"
          ]
        },
        {
          "output_type": "stream",
          "name": "stderr",
          "text": [
            "\n"
          ]
        },
        {
          "output_type": "display_data",
          "data": {
            "text/plain": [
              "\u001b[38;2;5;245;141m✓\u001b[0m Tests finished 🎉! Run \u001b[32m'deepeval login'\u001b[0m to save and analyze evaluation results on Confident AI. \n",
              "‼️  Friendly reminder 😇: You can also run evaluations with ALL of deepeval's metrics directly on Confident AI \n",
              "instead.\n"
            ],
            "text/html": [
              "<pre style=\"white-space:pre;overflow-x:auto;line-height:normal;font-family:Menlo,'DejaVu Sans Mono',consolas,'Courier New',monospace\"><span style=\"color: #05f58d; text-decoration-color: #05f58d\">✓</span> Tests finished 🎉! Run <span style=\"color: #008000; text-decoration-color: #008000\">'deepeval login'</span> to save and analyze evaluation results on Confident AI. \n",
              "‼️  Friendly reminder 😇: You can also run evaluations with ALL of deepeval's metrics directly on Confident AI \n",
              "instead.\n",
              "</pre>\n"
            ]
          },
          "metadata": {}
        }
      ]
    }
  ]
}