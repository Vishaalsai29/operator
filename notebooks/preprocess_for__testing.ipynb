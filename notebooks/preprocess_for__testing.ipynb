{
  "nbformat": 4,
  "nbformat_minor": 0,
  "metadata": {
    "colab": {
      "provenance": []
    },
    "kernelspec": {
      "name": "python3",
      "display_name": "Python 3"
    },
    "language_info": {
      "name": "python"
    }
  },
  "cells": [
    {
      "cell_type": "code",
      "execution_count": 1,
      "metadata": {
        "id": "FPJVUcrf0Ps5"
      },
      "outputs": [],
      "source": [
        "import pandas as pd"
      ]
    },
    {
      "cell_type": "code",
      "source": [
        "# Load CSV files\n",
        "wells_fargo = pd.read_csv(\"/content/wells_fargo.csv\")\n",
        "bank_of_america = pd.read_csv(\"/content/bank_of_america.csv\")\n",
        "western_union = pd.read_csv(\"/content/western_union.csv\")\n",
        "equifax = pd.read_csv(\"/content/equifax_data_.csv\")\n",
        "experian = pd.read_csv(\"/content/experian.csv\")"
      ],
      "metadata": {
        "id": "R8W7eyop0gYh"
      },
      "execution_count": 8,
      "outputs": []
    },
    {
      "cell_type": "code",
      "source": [
        "# Combine dataframes for global analysis\n",
        "data = pd.concat([wells_fargo, bank_of_america, western_union, equifax, experian])"
      ],
      "metadata": {
        "id": "mT792y_U015c"
      },
      "execution_count": 9,
      "outputs": []
    },
    {
      "cell_type": "code",
      "source": [
        "# Analyze trends for each institution\n",
        "for institution, df in {\"Wells Fargo\": wells_fargo, \"Bank of America\": bank_of_america, \"Western Union\": western_union, \"Equifax\": equifax, \"Experian\": experian}.items():\n",
        "    print(f\"\\nAnalysis for {institution}:\")\n",
        "\n",
        "    # Top complaint categories\n",
        "    top_categories = df[\"Sub-product\"].value_counts().head(3)\n",
        "    print(\"Top Complaint Categories:\")\n",
        "    print(top_categories)\n",
        "\n",
        "    # Complaint resolution rate\n",
        "    resolution_rate = (df[\"Company response to consumer\"] == \"Closed with explanation\").mean() * 100\n",
        "    print(f\"Resolution Rate: {resolution_rate:.2f}%\")\n",
        "\n",
        "    # Monthly complaint trends\n",
        "    df[\"Month\"] = pd.to_datetime(df[\"Date received\"]).dt.to_period(\"M\")\n",
        "    monthly_trends = df.groupby(\"Month\").size()\n",
        "    print(\"Monthly Complaint Trends:\")\n",
        "    print(monthly_trends.tail(6))"
      ],
      "metadata": {
        "colab": {
          "base_uri": "https://localhost:8080/"
        },
        "id": "2IRhMwfV037a",
        "outputId": "6bfc18d8-10ff-43ab-8773-baebffb0827f"
      },
      "execution_count": 12,
      "outputs": [
        {
          "output_type": "stream",
          "name": "stdout",
          "text": [
            "\n",
            "Analysis for Wells Fargo:\n",
            "Top Complaint Categories:\n",
            "Sub-product\n",
            "Checking account                              372\n",
            "General-purpose credit card or charge card    290\n",
            "Credit reporting                              274\n",
            "Name: count, dtype: int64\n",
            "Resolution Rate: 81.67%\n",
            "Monthly Complaint Trends:\n",
            "Month\n",
            "2024-05    64\n",
            "2024-06    64\n",
            "2024-07    65\n",
            "2024-08    77\n",
            "2024-09    57\n",
            "2024-10    30\n",
            "Freq: M, dtype: int64\n",
            "\n",
            "Analysis for Bank of America:\n",
            "Top Complaint Categories:\n",
            "Sub-product\n",
            "Credit reporting                              300\n",
            "General-purpose credit card or charge card    270\n",
            "Checking account                              226\n",
            "Name: count, dtype: int64\n",
            "Resolution Rate: 75.77%\n"
          ]
        },
        {
          "output_type": "stream",
          "name": "stderr",
          "text": [
            "<ipython-input-12-a64137c0c11f>:15: UserWarning: Could not infer format, so each element will be parsed individually, falling back to `dateutil`. To ensure parsing is consistent and as-expected, please specify a format.\n",
            "  df[\"Month\"] = pd.to_datetime(df[\"Date received\"]).dt.to_period(\"M\")\n",
            "<ipython-input-12-a64137c0c11f>:15: UserWarning: Could not infer format, so each element will be parsed individually, falling back to `dateutil`. To ensure parsing is consistent and as-expected, please specify a format.\n",
            "  df[\"Month\"] = pd.to_datetime(df[\"Date received\"]).dt.to_period(\"M\")\n"
          ]
        },
        {
          "output_type": "stream",
          "name": "stdout",
          "text": [
            "Monthly Complaint Trends:\n",
            "Month\n",
            "2024-05    57\n",
            "2024-06    73\n",
            "2024-07    56\n",
            "2024-08    73\n",
            "2024-09    58\n",
            "2024-10    10\n",
            "Freq: M, dtype: int64\n",
            "\n",
            "Analysis for Western Union:\n",
            "Top Complaint Categories:\n",
            "Sub-product\n",
            "Credit reporting                              193\n",
            "Checking account                               79\n",
            "General-purpose credit card or charge card     68\n",
            "Name: count, dtype: int64\n",
            "Resolution Rate: 89.73%\n",
            "Monthly Complaint Trends:\n",
            "Month\n",
            "2024-05    33\n",
            "2024-06    30\n",
            "2024-07    30\n",
            "2024-08    30\n",
            "2024-09    16\n",
            "2024-10     5\n",
            "Freq: M, dtype: int64\n",
            "\n",
            "Analysis for Equifax:\n",
            "Top Complaint Categories:\n",
            "Sub-product\n",
            "Credit Reporting                              3251\n",
            "General-Purpose Credit Card Or Charge Card      54\n",
            "Other Debt                                      43\n",
            "Name: count, dtype: int64\n",
            "Resolution Rate: 0.00%\n",
            "Monthly Complaint Trends:\n",
            "Month\n",
            "2014-08      22\n",
            "2024-08       7\n",
            "2024-09    3401\n",
            "Freq: M, dtype: int64\n",
            "\n",
            "Analysis for Experian:\n",
            "Top Complaint Categories:\n",
            "Sub-product\n",
            "Credit reporting                              28820\n",
            "I do not know                                   343\n",
            "General-purpose credit card or charge card      230\n",
            "Name: count, dtype: int64\n",
            "Resolution Rate: 47.53%\n",
            "Monthly Complaint Trends:\n",
            "Month\n",
            "2024-05    2110\n",
            "2024-06    1882\n",
            "2024-07    1890\n",
            "2024-08    2084\n",
            "2024-09    1575\n",
            "2024-10     237\n",
            "Freq: M, dtype: int64\n"
          ]
        },
        {
          "output_type": "stream",
          "name": "stderr",
          "text": [
            "<ipython-input-12-a64137c0c11f>:15: UserWarning: Could not infer format, so each element will be parsed individually, falling back to `dateutil`. To ensure parsing is consistent and as-expected, please specify a format.\n",
            "  df[\"Month\"] = pd.to_datetime(df[\"Date received\"]).dt.to_period(\"M\")\n",
            "<ipython-input-12-a64137c0c11f>:15: UserWarning: Could not infer format, so each element will be parsed individually, falling back to `dateutil`. To ensure parsing is consistent and as-expected, please specify a format.\n",
            "  df[\"Month\"] = pd.to_datetime(df[\"Date received\"]).dt.to_period(\"M\")\n"
          ]
        }
      ]
    },
    {
      "cell_type": "code",
      "source": [
        "# Export analysis results to JSON-compatible insights\n",
        "insights = []\n",
        "for institution, df in {\"Wells Fargo\": wells_fargo, \"Bank of America\": bank_of_america, \"Western Union\": western_union, \"Equifax\": equifax, \"Experian\": experian}.items():\n",
        "    top_categories = df[\"Sub-product\"].value_counts().head(3).index.tolist()\n",
        "    resolution_rate = (df[\"Company response to consumer\"] == \"Closed with explanation\").mean() * 100\n",
        "\n",
        "    insights.append({\n",
        "        \"institution\": institution,\n",
        "        \"top_categories\": top_categories,\n",
        "        \"resolution_rate\": resolution_rate,\n",
        "        \"total_complaints\": len(df)\n",
        "    })\n",
        "\n",
        "print(\"\\nGenerated Insights:\")\n",
        "print(insights)"
      ],
      "metadata": {
        "colab": {
          "base_uri": "https://localhost:8080/"
        },
        "id": "1gUZZh2_3i5M",
        "outputId": "5bf28b08-fb5c-4213-f16f-029a4ded60be"
      },
      "execution_count": 14,
      "outputs": [
        {
          "output_type": "stream",
          "name": "stdout",
          "text": [
            "\n",
            "Generated Insights:\n",
            "[{'institution': 'Wells Fargo', 'top_categories': ['Checking account', 'General-purpose credit card or charge card', 'Credit reporting'], 'resolution_rate': 81.66776968894773, 'total_complaints': 1511}, {'institution': 'Bank of America', 'top_categories': ['Credit reporting', 'General-purpose credit card or charge card', 'Checking account'], 'resolution_rate': 75.76985413290114, 'total_complaints': 1234}, {'institution': 'Western Union', 'top_categories': ['Credit reporting', 'Checking account', 'General-purpose credit card or charge card'], 'resolution_rate': 89.73384030418251, 'total_complaints': 526}, {'institution': 'Equifax', 'top_categories': ['Credit Reporting', 'General-Purpose Credit Card Or Charge Card', 'Other Debt'], 'resolution_rate': 0.0, 'total_complaints': 3430}, {'institution': 'Experian', 'top_categories': ['Credit reporting', 'I do not know', 'General-purpose credit card or charge card'], 'resolution_rate': 47.52796708242253, 'total_complaints': 31108}]\n"
          ]
        }
      ]
    },
    {
      "cell_type": "code",
      "source": [
        "import json\n",
        "\n",
        "# Example data from insights\n",
        "questions_and_answers = [\n",
        "    {\n",
        "        \"class\": \"CreditComplaints\",\n",
        "        \"properties\": {\n",
        "            \"question\": \"What are the top complaint categories for Wells Fargo?\",\n",
        "            \"answer\": \"The top complaint categories for Wells Fargo include Checking account, General-purpose credit card or charge card and Credit reporting.\"\n",
        "        }\n",
        "    },\n",
        "    {\n",
        "        \"class\": \"CreditComplaints\",\n",
        "        \"properties\": {\n",
        "            \"question\": \"What percentage of complaints about Bank of America were resolved?\",\n",
        "            \"answer\": \"Approximately 76% of complaints about Bank of America were resolved.\"\n",
        "        }\n",
        "    },\n",
        "    {\n",
        "        \"class\": \"CreditComplaints\",\n",
        "        \"properties\": {\n",
        "            \"question\": \"How many complaints were filed in June 2024 for Wells Fargo?\",\n",
        "            \"answer\": \"There were 64 complaints filed in June 2024 for Wells Fargo.\"\n",
        "        }\n",
        "    }\n",
        "]\n",
        "\n",
        "# Save to a JSON file\n",
        "with open(\"credit_complaints_test.json\", \"w\") as json_file:\n",
        "    json.dump(questions_and_answers, json_file, indent=4)\n"
      ],
      "metadata": {
        "id": "2mmfXpcO4VIs"
      },
      "execution_count": 15,
      "outputs": []
    }
  ]
}