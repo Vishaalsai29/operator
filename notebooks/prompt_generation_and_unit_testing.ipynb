{
  "nbformat": 4,
  "nbformat_minor": 0,
  "metadata": {
    "colab": {
      "provenance": []
    },
    "kernelspec": {
      "name": "python3",
      "display_name": "Python 3"
    },
    "language_info": {
      "name": "python"
    }
  },
  "cells": [
    {
      "cell_type": "code",
      "execution_count": 51,
      "metadata": {
        "colab": {
          "base_uri": "https://localhost:8080/"
        },
        "id": "R9lTwdrfrrzk",
        "outputId": "f9246770-f8e5-44a4-dedb-1bf75acb4b98"
      },
      "outputs": [
        {
          "output_type": "stream",
          "name": "stdout",
          "text": [
            "Requirement already satisfied: pip in /usr/local/lib/python3.10/dist-packages (24.3.1)\n"
          ]
        }
      ],
      "source": [
        "!python -m pip install --upgrade pip"
      ]
    },
    {
      "cell_type": "code",
      "source": [
        "!python -m pip install -U weaviate-client==4.7.1\n",
        "!python -m pip install python-dotenv==1.0.0\n",
        "!python -m pip install openai==1.54.3"
      ],
      "metadata": {
        "colab": {
          "base_uri": "https://localhost:8080/"
        },
        "id": "rr7fF_Xwsm6V",
        "outputId": "0e1b61fa-de6f-40a1-e950-149e669cead7"
      },
      "execution_count": 53,
      "outputs": [
        {
          "output_type": "stream",
          "name": "stdout",
          "text": [
            "Requirement already satisfied: weaviate-client==4.7.1 in /usr/local/lib/python3.10/dist-packages (4.7.1)\n",
            "Requirement already satisfied: requests<3.0.0,>=2.30.0 in /usr/local/lib/python3.10/dist-packages (from weaviate-client==4.7.1) (2.32.3)\n",
            "Requirement already satisfied: httpx<=0.27.0,>=0.25.0 in /usr/local/lib/python3.10/dist-packages (from weaviate-client==4.7.1) (0.27.0)\n",
            "Requirement already satisfied: validators==0.33.0 in /usr/local/lib/python3.10/dist-packages (from weaviate-client==4.7.1) (0.33.0)\n",
            "Requirement already satisfied: authlib<2.0.0,>=1.2.1 in /usr/local/lib/python3.10/dist-packages (from weaviate-client==4.7.1) (1.3.2)\n",
            "Requirement already satisfied: pydantic<3.0.0,>=2.5.0 in /usr/local/lib/python3.10/dist-packages (from weaviate-client==4.7.1) (2.9.2)\n",
            "Requirement already satisfied: grpcio<2.0.0,>=1.57.0 in /usr/local/lib/python3.10/dist-packages (from weaviate-client==4.7.1) (1.68.0)\n",
            "Requirement already satisfied: grpcio-tools<2.0.0,>=1.57.0 in /usr/local/lib/python3.10/dist-packages (from weaviate-client==4.7.1) (1.68.0)\n",
            "Requirement already satisfied: grpcio-health-checking<2.0.0,>=1.57.0 in /usr/local/lib/python3.10/dist-packages (from weaviate-client==4.7.1) (1.68.0)\n",
            "Requirement already satisfied: cryptography in /usr/local/lib/python3.10/dist-packages (from authlib<2.0.0,>=1.2.1->weaviate-client==4.7.1) (43.0.3)\n",
            "Requirement already satisfied: protobuf<6.0dev,>=5.26.1 in /usr/local/lib/python3.10/dist-packages (from grpcio-health-checking<2.0.0,>=1.57.0->weaviate-client==4.7.1) (5.28.3)\n",
            "Requirement already satisfied: setuptools in /usr/local/lib/python3.10/dist-packages (from grpcio-tools<2.0.0,>=1.57.0->weaviate-client==4.7.1) (75.1.0)\n",
            "Requirement already satisfied: anyio in /usr/local/lib/python3.10/dist-packages (from httpx<=0.27.0,>=0.25.0->weaviate-client==4.7.1) (3.7.1)\n",
            "Requirement already satisfied: certifi in /usr/local/lib/python3.10/dist-packages (from httpx<=0.27.0,>=0.25.0->weaviate-client==4.7.1) (2024.8.30)\n",
            "Requirement already satisfied: httpcore==1.* in /usr/local/lib/python3.10/dist-packages (from httpx<=0.27.0,>=0.25.0->weaviate-client==4.7.1) (1.0.7)\n",
            "Requirement already satisfied: idna in /usr/local/lib/python3.10/dist-packages (from httpx<=0.27.0,>=0.25.0->weaviate-client==4.7.1) (3.10)\n",
            "Requirement already satisfied: sniffio in /usr/local/lib/python3.10/dist-packages (from httpx<=0.27.0,>=0.25.0->weaviate-client==4.7.1) (1.3.1)\n",
            "Requirement already satisfied: h11<0.15,>=0.13 in /usr/local/lib/python3.10/dist-packages (from httpcore==1.*->httpx<=0.27.0,>=0.25.0->weaviate-client==4.7.1) (0.14.0)\n",
            "Requirement already satisfied: annotated-types>=0.6.0 in /usr/local/lib/python3.10/dist-packages (from pydantic<3.0.0,>=2.5.0->weaviate-client==4.7.1) (0.7.0)\n",
            "Requirement already satisfied: pydantic-core==2.23.4 in /usr/local/lib/python3.10/dist-packages (from pydantic<3.0.0,>=2.5.0->weaviate-client==4.7.1) (2.23.4)\n",
            "Requirement already satisfied: typing-extensions>=4.6.1 in /usr/local/lib/python3.10/dist-packages (from pydantic<3.0.0,>=2.5.0->weaviate-client==4.7.1) (4.12.2)\n",
            "Requirement already satisfied: charset-normalizer<4,>=2 in /usr/local/lib/python3.10/dist-packages (from requests<3.0.0,>=2.30.0->weaviate-client==4.7.1) (3.4.0)\n",
            "Requirement already satisfied: urllib3<3,>=1.21.1 in /usr/local/lib/python3.10/dist-packages (from requests<3.0.0,>=2.30.0->weaviate-client==4.7.1) (2.2.3)\n",
            "Requirement already satisfied: exceptiongroup in /usr/local/lib/python3.10/dist-packages (from anyio->httpx<=0.27.0,>=0.25.0->weaviate-client==4.7.1) (1.2.2)\n",
            "Requirement already satisfied: cffi>=1.12 in /usr/local/lib/python3.10/dist-packages (from cryptography->authlib<2.0.0,>=1.2.1->weaviate-client==4.7.1) (1.17.1)\n",
            "Requirement already satisfied: pycparser in /usr/local/lib/python3.10/dist-packages (from cffi>=1.12->cryptography->authlib<2.0.0,>=1.2.1->weaviate-client==4.7.1) (2.22)\n",
            "Requirement already satisfied: python-dotenv==1.0.0 in /usr/local/lib/python3.10/dist-packages (1.0.0)\n",
            "Requirement already satisfied: openai==1.54.3 in /usr/local/lib/python3.10/dist-packages (1.54.3)\n",
            "Requirement already satisfied: anyio<5,>=3.5.0 in /usr/local/lib/python3.10/dist-packages (from openai==1.54.3) (3.7.1)\n",
            "Requirement already satisfied: distro<2,>=1.7.0 in /usr/local/lib/python3.10/dist-packages (from openai==1.54.3) (1.9.0)\n",
            "Requirement already satisfied: httpx<1,>=0.23.0 in /usr/local/lib/python3.10/dist-packages (from openai==1.54.3) (0.27.0)\n",
            "Requirement already satisfied: jiter<1,>=0.4.0 in /usr/local/lib/python3.10/dist-packages (from openai==1.54.3) (0.7.1)\n",
            "Requirement already satisfied: pydantic<3,>=1.9.0 in /usr/local/lib/python3.10/dist-packages (from openai==1.54.3) (2.9.2)\n",
            "Requirement already satisfied: sniffio in /usr/local/lib/python3.10/dist-packages (from openai==1.54.3) (1.3.1)\n",
            "Requirement already satisfied: tqdm>4 in /usr/local/lib/python3.10/dist-packages (from openai==1.54.3) (4.66.6)\n",
            "Requirement already satisfied: typing-extensions<5,>=4.11 in /usr/local/lib/python3.10/dist-packages (from openai==1.54.3) (4.12.2)\n",
            "Requirement already satisfied: idna>=2.8 in /usr/local/lib/python3.10/dist-packages (from anyio<5,>=3.5.0->openai==1.54.3) (3.10)\n",
            "Requirement already satisfied: exceptiongroup in /usr/local/lib/python3.10/dist-packages (from anyio<5,>=3.5.0->openai==1.54.3) (1.2.2)\n",
            "Requirement already satisfied: certifi in /usr/local/lib/python3.10/dist-packages (from httpx<1,>=0.23.0->openai==1.54.3) (2024.8.30)\n",
            "Requirement already satisfied: httpcore==1.* in /usr/local/lib/python3.10/dist-packages (from httpx<1,>=0.23.0->openai==1.54.3) (1.0.7)\n",
            "Requirement already satisfied: h11<0.15,>=0.13 in /usr/local/lib/python3.10/dist-packages (from httpcore==1.*->httpx<1,>=0.23.0->openai==1.54.3) (0.14.0)\n",
            "Requirement already satisfied: annotated-types>=0.6.0 in /usr/local/lib/python3.10/dist-packages (from pydantic<3,>=1.9.0->openai==1.54.3) (0.7.0)\n",
            "Requirement already satisfied: pydantic-core==2.23.4 in /usr/local/lib/python3.10/dist-packages (from pydantic<3,>=1.9.0->openai==1.54.3) (2.23.4)\n"
          ]
        }
      ]
    },
    {
      "cell_type": "markdown",
      "source": [
        "### Environmental Variables & Configurations"
      ],
      "metadata": {
        "id": "o7cBvjOltCTx"
      }
    },
    {
      "cell_type": "markdown",
      "source": [
        "**FIRST** Create your .env file in this folder.  Use the .env.example file as a guide."
      ],
      "metadata": {
        "id": "AVSs1cu7tNI5"
      }
    },
    {
      "cell_type": "code",
      "source": [
        "import os\n",
        "from dotenv import load_dotenv\n",
        "\n",
        "# Get the current file's directory (all_rag_techniques)\n",
        "current_dir = os.path.dirname(os.path.abspath('__file__'))\n",
        "\n",
        "# Get the parent directory\n",
        "parent_dir = os.path.dirname(current_dir)\n",
        "\n",
        "# Construct the path to the .env file in the parent directory\n",
        "dotenv_path = os.path.join(parent_dir, '.env')\n",
        "\n",
        "# Load the .env file\n",
        "load_dotenv(dotenv_path)\n",
        "\n",
        "print(f\"Current working directory: {os.getcwd()}\")\n",
        "print(f\"Parent directory (where .env should be): {parent_dir}\")\n",
        "print(f\".env file path: {dotenv_path}\")\n",
        "print(f\".env file exists: {os.path.exists(dotenv_path)}\")"
      ],
      "metadata": {
        "colab": {
          "base_uri": "https://localhost:8080/"
        },
        "id": "lde4gKduCTzv",
        "outputId": "d86cfd0d-55b8-4bc1-d670-2a4ec58c420a"
      },
      "execution_count": 54,
      "outputs": [
        {
          "output_type": "stream",
          "name": "stdout",
          "text": [
            "Current working directory: /content\n",
            "Parent directory (where .env should be): /\n",
            ".env file path: /.env\n",
            ".env file exists: False\n"
          ]
        }
      ]
    },
    {
      "cell_type": "code",
      "source": [
        "# Import Environmental Variables\n",
        "\n",
        "#Keys and URLs for Embedding and Generative Models\n",
        "OPENAI_API_KEY = os.getenv('OPENAI_API_KEY')\n",
        "# OPENAI_BASE_URL = os.getenv('OPENAI_BASE_URL')\n",
        "OPENAI_EMBEDDING_URL = os.getenv('OPENAI_EMBEDDING_URL')\n",
        "OPENAI_GENERATION_URL = os.getenv('OPENAI_GENERATION_URL')\n",
        "\n",
        "#Keys and URLS for Vector Databases\n",
        "WEAVIATE_URL_VERBA = os.getenv('WEAVIATE_URL_VERBA')\n",
        "WEAVIATE_API_KEY_VERBA = os.getenv('WEAVIATE_API_KEY_VERBA')\n",
        "\n",
        "print(len(WEAVIATE_URL_VERBA)>20)\n",
        "print(len(WEAVIATE_API_KEY_VERBA)>20)\n",
        "print(len(OPENAI_API_KEY)>20)"
      ],
      "metadata": {
        "colab": {
          "base_uri": "https://localhost:8080/"
        },
        "id": "LaU5UAKc-dba",
        "outputId": "ef421ddf-3555-4e5e-ef26-552f5c4d0c9c"
      },
      "execution_count": 55,
      "outputs": [
        {
          "output_type": "stream",
          "name": "stdout",
          "text": [
            "True\n",
            "True\n",
            "True\n"
          ]
        }
      ]
    },
    {
      "cell_type": "code",
      "source": [
        "# Embedding\n",
        "EMBEDDING_MODEL = \"text-embedding-3-small\"\n",
        "ENCODING_FORMAT = \"float\"\n",
        "\n",
        "# Database\n",
        "COLLECTION_NAME = \"VERBA_Embedding_text_embedding_3_small\""
      ],
      "metadata": {
        "id": "GtLzNOU0_VFl"
      },
      "execution_count": 56,
      "outputs": []
    },
    {
      "cell_type": "markdown",
      "source": [
        "### Vector Database Connection"
      ],
      "metadata": {
        "id": "D61rCv11I3V3"
      }
    },
    {
      "cell_type": "code",
      "source": [
        "# VECTOR DATABASE CONNECTION\n",
        "\n",
        "from weaviate.classes.init import Auth, AdditionalConfig, Timeout\n",
        "import weaviate\n",
        "\n",
        "client_db = weaviate.connect_to_weaviate_cloud(\n",
        "    cluster_url = WEAVIATE_URL_VERBA,\n",
        "    auth_credentials = Auth.api_key(WEAVIATE_API_KEY_VERBA),\n",
        "    additional_config=AdditionalConfig(timeout=Timeout(init=30, query=60, insert=120))  # Values in seconds\n",
        ")\n",
        "\n",
        "print(client_db.is_ready())"
      ],
      "metadata": {
        "colab": {
          "base_uri": "https://localhost:8080/"
        },
        "id": "1x5rLPQtJC2z",
        "outputId": "62f01e02-19fd-4d17-f9c0-56df9a5da1fc"
      },
      "execution_count": 57,
      "outputs": [
        {
          "output_type": "stream",
          "name": "stdout",
          "text": [
            "True\n"
          ]
        }
      ]
    },
    {
      "cell_type": "markdown",
      "source": [
        "### Embedding Service Connection"
      ],
      "metadata": {
        "id": "68C5peV6JOKG"
      }
    },
    {
      "cell_type": "code",
      "source": [
        "# Extracts the actual vector embedding from the OpenAI response\n",
        "# https://platform.openai.com/docs/api-reference/embeddings/create\n",
        "def openai_extract_vector(\n",
        "        response\n",
        "    ) -> list[float]:\n",
        "\n",
        "    return response.data[0].embedding"
      ],
      "metadata": {
        "id": "7JauAzN8JRuu"
      },
      "execution_count": 58,
      "outputs": []
    },
    {
      "cell_type": "code",
      "source": [
        "# EMBEDDING CONNECTION - OPENAI\n",
        "# https://platform.openai.com/docs/api-reference/authentication\n",
        "\n",
        "import openai\n",
        "from openai import OpenAI\n",
        "\n",
        "# Set API Key.  Not necessary if you have an\n",
        "# OPENAI_API_KEY variable in your environment\n",
        "openai.api_key = OPENAI_API_KEY\n",
        "\n",
        "client_embedding = OpenAI()"
      ],
      "metadata": {
        "id": "h0xqVgjRJY4u"
      },
      "execution_count": 59,
      "outputs": []
    },
    {
      "cell_type": "code",
      "source": [
        "#print(type(client_embedding))\n",
        "\n",
        "#for item in client_embedding.models.list():\n",
        "#    print(item)"
      ],
      "metadata": {
        "id": "SSNxxFETJcG9"
      },
      "execution_count": 60,
      "outputs": []
    },
    {
      "cell_type": "markdown",
      "source": [
        "### Generation Service Connection"
      ],
      "metadata": {
        "id": "KhqtvcHAJrL8"
      }
    },
    {
      "cell_type": "code",
      "source": [
        "# GENERATION CONNECTION - OPENAI\n",
        "# https://platform.openai.com/docs/api-reference/authentication\n",
        "\n",
        "import openai\n",
        "from openai import OpenAI\n",
        "\n",
        "# Set API Key.  Not necessary if you have an\n",
        "# OPENAI_API_KEY variable in your environment\n",
        "openai.api_key = OPENAI_API_KEY\n",
        "\n",
        "generation_client = OpenAI()"
      ],
      "metadata": {
        "id": "AOEzj1YDJusJ"
      },
      "execution_count": 61,
      "outputs": []
    },
    {
      "cell_type": "markdown",
      "source": [
        "### Simple RAG"
      ],
      "metadata": {
        "id": "Z05Bgz8AJyoN"
      }
    },
    {
      "cell_type": "code",
      "source": [
        "from weaviate.classes.query import MetadataQuery\n",
        "\n",
        "query_text = \"I want the no of credit complaints that were registered in January 2024 by Wells Fargo\"\n",
        "\n",
        "# Vectorize the query\n",
        "response_embedding = client_embedding.embeddings.create(\n",
        "    model = EMBEDDING_MODEL,\n",
        "    input = query_text,\n",
        "    encoding_format = ENCODING_FORMAT\n",
        ")\n",
        "\n",
        "# Extract the verctor embeddings list[float] from the embedding response\n",
        "query_vector = openai_extract_vector(response_embedding)\n",
        "\n",
        "# Look up the appropriate Weviate database collection - name based on embedding model used\n",
        "collection = client_db.collections.get('VERBA_Embedding_text_embedding_3_small')\n",
        "\n",
        "# Send vector query to database and get response\n",
        "db_response = collection.query.near_vector(\n",
        "    near_vector=query_vector,\n",
        "    limit=10,\n",
        "    return_metadata=MetadataQuery(distance=True)\n",
        ")\n",
        "\n",
        "# Extract items from database response\n",
        "# and aggregate into a single string\n",
        "db_response_content = \"\"\n",
        "for item in db_response.objects:\n",
        "    segment = '\\n<ContextSegment' + str(int(item.properties.get('chunk_id'))) + '>\\n'\n",
        "    db_response_content += segment\n",
        "    db_response_content += item.properties.get('content')\n",
        "\n",
        "# # Print results\n",
        "# for item in response_db.objects:\n",
        "#     print(item.properties)\n",
        "#     print(item.metadata.distance)\n",
        "\n",
        "# print(response_content)"
      ],
      "metadata": {
        "id": "mBbcw5wHJ1QJ"
      },
      "execution_count": 62,
      "outputs": []
    },
    {
      "cell_type": "code",
      "source": [
        "# Response Generation with OpenAI\n",
        "# # https://platform.openai.com/docs/api-reference/chat/create\n",
        "\n",
        "\n",
        "generation_response = generation_client.chat.completions.create(\n",
        "  model=\"gpt-4o\",\n",
        "  messages=[\n",
        "    {\n",
        "      \"role\": \"system\",\n",
        "      \"content\": f\"You are a helpful assistant who uses this context if appropriate: {db_response_content}\"\n",
        "    },\n",
        "    {\n",
        "      \"role\": \"user\",\n",
        "      \"content\": query_text\n",
        "    }\n",
        "  ]\n",
        ")\n",
        "\n",
        "print(generation_response.choices[0].message.content)"
      ],
      "metadata": {
        "colab": {
          "base_uri": "https://localhost:8080/"
        },
        "id": "OwO02hpbKBa7",
        "outputId": "d949f475-6c86-43cb-86d3-4889d61791ba"
      },
      "execution_count": 63,
      "outputs": [
        {
          "output_type": "stream",
          "name": "stdout",
          "text": [
            "The data provided does not specify the exact number of credit complaints registered by Wells Fargo in January 2024. However, based on the data segments, there is at least one credit complaint related to a credit card issue by Wells Fargo logged on 01/25/24, as seen in <ContextSegment624>. Further specific details would be needed to provide an exact number.\n"
          ]
        }
      ]
    },
    {
      "cell_type": "markdown",
      "source": [
        "### Unit Testing"
      ],
      "metadata": {
        "id": "gJQtshWiEO_S"
      }
    },
    {
      "cell_type": "code",
      "source": [
        "from weaviate.classes.query import MetadataQuery\n",
        "\n",
        "# List of test queries\n",
        "test_queries = [\n",
        "    \"What are the top complaint categories for Wells Fargo?\",\n",
        "    \"How many complaints were filed in June 2024 for Wells Fargo?\"\n",
        "]\n",
        "\n",
        "# Define expected outputs for each query\n",
        "expected_outputs = [\n",
        "    \"The top complaint categories for Wells Fargo include Checking account, General-purpose credit card or charge card and Credit reporting.\",\n",
        "    \"There were 64 complaints filed in June 2024 for Wells Fargo.\"\n",
        "]\n",
        "\n",
        "# Validate results\n",
        "for idx, query_text in enumerate(test_queries, 1):\n",
        "    print(f\"\\n### Test Query {idx}: {query_text} ###\")\n",
        "\n",
        "    # Generate vector embeddings for the query\n",
        "    response_embedding = client_embedding.embeddings.create(\n",
        "        model=EMBEDDING_MODEL,\n",
        "        input=query_text,\n",
        "        encoding_format=ENCODING_FORMAT\n",
        "    )\n",
        "\n",
        "    # Extract vector embeddings as a list of floats\n",
        "    query_vector = openai_extract_vector(response_embedding)\n",
        "\n",
        "    # Look up the appropriate Weaviate database collection - name based on embedding model used\n",
        "    collection = client_db.collections.get('VERBA_Embedding_text_embedding_3_small')\n",
        "\n",
        "    # Send vector query to the database and get response\n",
        "    db_response = collection.query.near_vector(\n",
        "        near_vector=query_vector,\n",
        "        limit=10,\n",
        "        return_metadata=MetadataQuery(distance=True)\n",
        "    )\n",
        "\n",
        "    # Extract and aggregate items from the database response\n",
        "    db_response_content = \"\"\n",
        "    for item in db_response.objects:\n",
        "        segment = '\\n<ContextSegment ' + str(int(item.properties.get('chunk_id'))) + '>\\n'\n",
        "        db_response_content += segment\n",
        "        db_response_content += item.properties.get('content')\n",
        "\n",
        "    # Generate a response using the retrieved context\n",
        "    generation_response = generation_client.chat.completions.create(\n",
        "        model=\"gpt-4o\",\n",
        "        messages=[\n",
        "            {\n",
        "                \"role\": \"system\",\n",
        "                \"content\": f\"You are a helpful assistant who uses this context if appropriate: {db_response_content}\"\n",
        "            },\n",
        "            {\n",
        "                \"role\": \"user\",\n",
        "                \"content\": query_text\n",
        "            }\n",
        "        ]\n",
        "    )\n",
        "\n",
        "    # Extract the generated response\n",
        "    generated_response = generation_response.choices[0].message.content\n",
        "\n",
        "    # Compare with the expected output\n",
        "    expected_output = expected_outputs[idx - 1]\n",
        "\n",
        "    print(\"\\n### Expected vs Generated Response ###\")\n",
        "    print(f\"Expected: {expected_output}\")\n",
        "    print(f\"Generated: {generated_response}\")\n",
        "\n",
        "    if generated_response.strip() == expected_output.strip():\n",
        "        print(\"✅ Test Passed\")\n",
        "    else:\n",
        "        print(\"❌ Test Failed\")\n",
        "        print(\"Difference:\")\n",
        "        print(f\"Expected: {expected_output.strip()}\")\n",
        "        print(f\"Generated: {generated_response.strip()}\")\n"
      ],
      "metadata": {
        "colab": {
          "base_uri": "https://localhost:8080/"
        },
        "id": "AFYsaaMnIA19",
        "outputId": "f0ecf548-00a0-4590-cfa6-d2e54591b427"
      },
      "execution_count": 69,
      "outputs": [
        {
          "output_type": "stream",
          "name": "stdout",
          "text": [
            "\n",
            "### Test Query 1: What are the top complaint categories for Wells Fargo? ###\n",
            "\n",
            "### Expected vs Generated Response ###\n",
            "Expected: The top complaint categories for Wells Fargo include Checking account, General-purpose credit card or charge card and Credit reporting.\n",
            "Generated: The top complaint categories for Wells Fargo include Checking account, General-purpose credit card or charge card, and Credit reporting.\n",
            "❌ Test Failed\n",
            "Difference:\n",
            "Expected: The top complaint categories for Wells Fargo include Checking account, General-purpose credit card or charge card and Credit reporting.\n",
            "Generated: The top complaint categories for Wells Fargo include Checking account, General-purpose credit card or charge card, and Credit reporting.\n",
            "\n",
            "### Test Query 2: How many complaints were filed in June 2024 for Wells Fargo? ###\n",
            "\n",
            "### Expected vs Generated Response ###\n",
            "Expected: There were 64 complaints filed in June 2024 for Wells Fargo.\n",
            "Generated: There were 64 complaints filed in June 2024 for Wells Fargo.\n",
            "✅ Test Passed\n"
          ]
        }
      ]
    }
  ]
}